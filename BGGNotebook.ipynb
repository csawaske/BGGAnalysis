{
 "cells": [
  {
   "cell_type": "code",
   "execution_count": 2,
   "metadata": {},
   "outputs": [],
   "source": [
    "import csv, numpy, pandas as pd, matplotlib.pyplot as plt\n",
    "from sklearn.linear_model import LinearRegression\n",
    "from sklearn.neural_network import MLPClassifier"
   ]
  },
  {
   "cell_type": "code",
   "execution_count": 3,
   "metadata": {},
   "outputs": [],
   "source": [
    "kickData = pd.read_csv('kickData.csv', usecols=['name', 'main_category', 'sub_category', 'launched_at', 'deadline', 'state', 'goal', 'pledged', 'percentage_funded', 'backers_count', 'popularity_rank', 'currency'], escapechar='\\\\')"
   ]
  },
  {
   "cell_type": "code",
   "execution_count": 4,
   "metadata": {},
   "outputs": [
    {
     "data": {
      "text/html": [
       "<div>\n",
       "<style scoped>\n",
       "    .dataframe tbody tr th:only-of-type {\n",
       "        vertical-align: middle;\n",
       "    }\n",
       "\n",
       "    .dataframe tbody tr th {\n",
       "        vertical-align: top;\n",
       "    }\n",
       "\n",
       "    .dataframe thead th {\n",
       "        text-align: right;\n",
       "    }\n",
       "</style>\n",
       "<table border=\"1\" class=\"dataframe\">\n",
       "  <thead>\n",
       "    <tr style=\"text-align: right;\">\n",
       "      <th></th>\n",
       "      <th>name</th>\n",
       "      <th>main_category</th>\n",
       "      <th>sub_category</th>\n",
       "      <th>launched_at</th>\n",
       "      <th>deadline</th>\n",
       "      <th>state</th>\n",
       "      <th>goal</th>\n",
       "      <th>pledged</th>\n",
       "      <th>percentage_funded</th>\n",
       "      <th>backers_count</th>\n",
       "      <th>popularity_rank</th>\n",
       "      <th>currency</th>\n",
       "    </tr>\n",
       "  </thead>\n",
       "  <tbody>\n",
       "    <tr>\n",
       "      <th>0</th>\n",
       "      <td>The Cargo Sling - Don't Lose Your Load on the ...</td>\n",
       "      <td>Design</td>\n",
       "      <td>Product Design</td>\n",
       "      <td>2013-06-02 00:12:16</td>\n",
       "      <td>2013-07-02 00:12:16</td>\n",
       "      <td>failed</td>\n",
       "      <td>3500.0</td>\n",
       "      <td>706.00</td>\n",
       "      <td>0.20171</td>\n",
       "      <td>13</td>\n",
       "      <td>NaN</td>\n",
       "      <td>USD</td>\n",
       "    </tr>\n",
       "    <tr>\n",
       "      <th>1</th>\n",
       "      <td>Starlite objects project.</td>\n",
       "      <td>Design</td>\n",
       "      <td>Product Design</td>\n",
       "      <td>2013-06-02 00:13:57</td>\n",
       "      <td>2013-06-22 00:13:57</td>\n",
       "      <td>failed</td>\n",
       "      <td>4000.0</td>\n",
       "      <td>8.00</td>\n",
       "      <td>0.00200</td>\n",
       "      <td>1</td>\n",
       "      <td>NaN</td>\n",
       "      <td>GBP</td>\n",
       "    </tr>\n",
       "    <tr>\n",
       "      <th>2</th>\n",
       "      <td>Fall and Recover: A Refugee Dance Film</td>\n",
       "      <td>Film &amp; Video</td>\n",
       "      <td>Film &amp; Video</td>\n",
       "      <td>2013-06-02 00:52:44</td>\n",
       "      <td>2013-08-01 00:52:44</td>\n",
       "      <td>successful</td>\n",
       "      <td>8000.0</td>\n",
       "      <td>8550.00</td>\n",
       "      <td>1.06875</td>\n",
       "      <td>92</td>\n",
       "      <td>NaN</td>\n",
       "      <td>USD</td>\n",
       "    </tr>\n",
       "    <tr>\n",
       "      <th>3</th>\n",
       "      <td>After 68: The Rise and Fall of The Ambassador ...</td>\n",
       "      <td>Film &amp; Video</td>\n",
       "      <td>Documentary</td>\n",
       "      <td>2013-06-02 02:00:01</td>\n",
       "      <td>2013-07-24 02:00:01</td>\n",
       "      <td>failed</td>\n",
       "      <td>150000.0</td>\n",
       "      <td>16139.87</td>\n",
       "      <td>0.10760</td>\n",
       "      <td>167</td>\n",
       "      <td>NaN</td>\n",
       "      <td>USD</td>\n",
       "    </tr>\n",
       "    <tr>\n",
       "      <th>4</th>\n",
       "      <td>TagPodz: A Pet Tag Silencer for Dogs (Canceled)</td>\n",
       "      <td>Design</td>\n",
       "      <td>Product Design</td>\n",
       "      <td>2013-06-02 02:30:46</td>\n",
       "      <td>2013-08-01 02:30:46</td>\n",
       "      <td>canceled</td>\n",
       "      <td>17500.0</td>\n",
       "      <td>1849.00</td>\n",
       "      <td>0.10566</td>\n",
       "      <td>97</td>\n",
       "      <td>NaN</td>\n",
       "      <td>USD</td>\n",
       "    </tr>\n",
       "  </tbody>\n",
       "</table>\n",
       "</div>"
      ],
      "text/plain": [
       "                                                name main_category  \\\n",
       "0  The Cargo Sling - Don't Lose Your Load on the ...        Design   \n",
       "1                          Starlite objects project.        Design   \n",
       "2             Fall and Recover: A Refugee Dance Film  Film & Video   \n",
       "3  After 68: The Rise and Fall of The Ambassador ...  Film & Video   \n",
       "4    TagPodz: A Pet Tag Silencer for Dogs (Canceled)        Design   \n",
       "\n",
       "     sub_category          launched_at             deadline       state  \\\n",
       "0  Product Design  2013-06-02 00:12:16  2013-07-02 00:12:16      failed   \n",
       "1  Product Design  2013-06-02 00:13:57  2013-06-22 00:13:57      failed   \n",
       "2    Film & Video  2013-06-02 00:52:44  2013-08-01 00:52:44  successful   \n",
       "3     Documentary  2013-06-02 02:00:01  2013-07-24 02:00:01      failed   \n",
       "4  Product Design  2013-06-02 02:30:46  2013-08-01 02:30:46    canceled   \n",
       "\n",
       "       goal   pledged  percentage_funded  backers_count  popularity_rank  \\\n",
       "0    3500.0    706.00            0.20171             13              NaN   \n",
       "1    4000.0      8.00            0.00200              1              NaN   \n",
       "2    8000.0   8550.00            1.06875             92              NaN   \n",
       "3  150000.0  16139.87            0.10760            167              NaN   \n",
       "4   17500.0   1849.00            0.10566             97              NaN   \n",
       "\n",
       "  currency  \n",
       "0      USD  \n",
       "1      GBP  \n",
       "2      USD  \n",
       "3      USD  \n",
       "4      USD  "
      ]
     },
     "execution_count": 4,
     "metadata": {},
     "output_type": "execute_result"
    }
   ],
   "source": [
    "kickData.head()"
   ]
  },
  {
   "cell_type": "code",
   "execution_count": 25,
   "metadata": {
    "scrolled": true
   },
   "outputs": [],
   "source": [
    "kickGames=kickData.query('sub_category == \"Tabletop Games\"')\n",
    "kickGames = kickGames.query('state == \"successful\"')"
   ]
  },
  {
   "cell_type": "code",
   "execution_count": 26,
   "metadata": {},
   "outputs": [
    {
     "name": "stdout",
     "output_type": "stream",
     "text": [
      "7097\n"
     ]
    }
   ],
   "source": [
    "kickGames.head()\n",
    "print(len(kickGames))"
   ]
  },
  {
   "cell_type": "code",
   "execution_count": 27,
   "metadata": {},
   "outputs": [],
   "source": [
    "bggData = pd.read_csv('bggData.csv', usecols=['name', 'minplayers', 'maxplayers', 'playingtime', 'minplaytime', 'maxplaytime', 'users_rated', 'average_rating', 'bayes_average_rating', 'total_owners', 'total_traders', 'total_wanters', 'total_wishers', 'total_comments', 'average_weight', 'types', 'categories', 'mechanics'])"
   ]
  },
  {
   "cell_type": "code",
   "execution_count": 28,
   "metadata": {},
   "outputs": [
    {
     "name": "stdout",
     "output_type": "stream",
     "text": [
      "95777\n"
     ]
    }
   ],
   "source": [
    "bggData.head()\n",
    "print(len(bggData))"
   ]
  },
  {
   "cell_type": "code",
   "execution_count": 29,
   "metadata": {
    "scrolled": true
   },
   "outputs": [],
   "source": [
    "merged = kickGames.merge(bggData, on='name')"
   ]
  },
  {
   "cell_type": "code",
   "execution_count": 30,
   "metadata": {},
   "outputs": [
    {
     "name": "stdout",
     "output_type": "stream",
     "text": [
      "1249\n"
     ]
    }
   ],
   "source": [
    "print(len(merged))"
   ]
  },
  {
   "cell_type": "code",
   "execution_count": 31,
   "metadata": {},
   "outputs": [
    {
     "data": {
      "text/html": [
       "<div>\n",
       "<style scoped>\n",
       "    .dataframe tbody tr th:only-of-type {\n",
       "        vertical-align: middle;\n",
       "    }\n",
       "\n",
       "    .dataframe tbody tr th {\n",
       "        vertical-align: top;\n",
       "    }\n",
       "\n",
       "    .dataframe thead th {\n",
       "        text-align: right;\n",
       "    }\n",
       "</style>\n",
       "<table border=\"1\" class=\"dataframe\">\n",
       "  <thead>\n",
       "    <tr style=\"text-align: right;\">\n",
       "      <th></th>\n",
       "      <th>name</th>\n",
       "      <th>main_category</th>\n",
       "      <th>sub_category</th>\n",
       "      <th>launched_at</th>\n",
       "      <th>deadline</th>\n",
       "      <th>state</th>\n",
       "      <th>goal</th>\n",
       "      <th>pledged</th>\n",
       "      <th>percentage_funded</th>\n",
       "      <th>backers_count</th>\n",
       "      <th>...</th>\n",
       "      <th>bayes_average_rating</th>\n",
       "      <th>total_owners</th>\n",
       "      <th>total_traders</th>\n",
       "      <th>total_wanters</th>\n",
       "      <th>total_wishers</th>\n",
       "      <th>total_comments</th>\n",
       "      <th>average_weight</th>\n",
       "      <th>types</th>\n",
       "      <th>categories</th>\n",
       "      <th>mechanics</th>\n",
       "    </tr>\n",
       "  </thead>\n",
       "  <tbody>\n",
       "    <tr>\n",
       "      <th>0</th>\n",
       "      <td>Fairytale Games: The Battle Royale</td>\n",
       "      <td>Games</td>\n",
       "      <td>Tabletop Games</td>\n",
       "      <td>2013-06-03 15:28:41</td>\n",
       "      <td>2013-07-03 15:28:41</td>\n",
       "      <td>successful</td>\n",
       "      <td>35000.0</td>\n",
       "      <td>139658.11</td>\n",
       "      <td>3.99023</td>\n",
       "      <td>1340</td>\n",
       "      <td>...</td>\n",
       "      <td>5.46066</td>\n",
       "      <td>258</td>\n",
       "      <td>26</td>\n",
       "      <td>13</td>\n",
       "      <td>81</td>\n",
       "      <td>56</td>\n",
       "      <td>3.7500</td>\n",
       "      <td>boardgame,thematic</td>\n",
       "      <td>Adventure,Bluffing,Card Game,Exploration,Fanta...</td>\n",
       "      <td>Campaign / Battle Card Driven,Card Drafting,Co...</td>\n",
       "    </tr>\n",
       "    <tr>\n",
       "      <th>1</th>\n",
       "      <td>New Amsterdam</td>\n",
       "      <td>Games</td>\n",
       "      <td>Tabletop Games</td>\n",
       "      <td>2013-06-04 11:37:24</td>\n",
       "      <td>2013-06-29 03:59:00</td>\n",
       "      <td>successful</td>\n",
       "      <td>5000.0</td>\n",
       "      <td>34743.00</td>\n",
       "      <td>6.94860</td>\n",
       "      <td>365</td>\n",
       "      <td>...</td>\n",
       "      <td>6.33103</td>\n",
       "      <td>1411</td>\n",
       "      <td>76</td>\n",
       "      <td>102</td>\n",
       "      <td>350</td>\n",
       "      <td>328</td>\n",
       "      <td>3.2308</td>\n",
       "      <td>boardgame,strategygames</td>\n",
       "      <td>Economic,Renaissance</td>\n",
       "      <td>Area Control / Area Influence,Auction/Bidding,...</td>\n",
       "    </tr>\n",
       "    <tr>\n",
       "      <th>2</th>\n",
       "      <td>Cthulhu Wars</td>\n",
       "      <td>Games</td>\n",
       "      <td>Tabletop Games</td>\n",
       "      <td>2013-06-07 19:14:50</td>\n",
       "      <td>2013-07-07 19:14:50</td>\n",
       "      <td>successful</td>\n",
       "      <td>40000.0</td>\n",
       "      <td>1403981.04</td>\n",
       "      <td>35.09953</td>\n",
       "      <td>4389</td>\n",
       "      <td>...</td>\n",
       "      <td>7.18197</td>\n",
       "      <td>3571</td>\n",
       "      <td>34</td>\n",
       "      <td>311</td>\n",
       "      <td>1500</td>\n",
       "      <td>629</td>\n",
       "      <td>3.1099</td>\n",
       "      <td>boardgame,thematic,strategygames</td>\n",
       "      <td>Fantasy,Fighting,Horror,Miniatures</td>\n",
       "      <td>Action Point Allowance System,Area Movement,Di...</td>\n",
       "    </tr>\n",
       "    <tr>\n",
       "      <th>3</th>\n",
       "      <td>Rockwell</td>\n",
       "      <td>Games</td>\n",
       "      <td>Tabletop Games</td>\n",
       "      <td>2013-06-08 23:15:40</td>\n",
       "      <td>2013-07-08 23:15:40</td>\n",
       "      <td>successful</td>\n",
       "      <td>12000.0</td>\n",
       "      <td>21852.00</td>\n",
       "      <td>1.82100</td>\n",
       "      <td>303</td>\n",
       "      <td>...</td>\n",
       "      <td>6.04422</td>\n",
       "      <td>891</td>\n",
       "      <td>29</td>\n",
       "      <td>61</td>\n",
       "      <td>198</td>\n",
       "      <td>125</td>\n",
       "      <td>3.1951</td>\n",
       "      <td>boardgame,strategygames</td>\n",
       "      <td>Economic,Exploration,Industry / Manufacturing,...</td>\n",
       "      <td>Area Control / Area Influence,Area Movement,Mo...</td>\n",
       "    </tr>\n",
       "    <tr>\n",
       "      <th>4</th>\n",
       "      <td>Something Different</td>\n",
       "      <td>Games</td>\n",
       "      <td>Tabletop Games</td>\n",
       "      <td>2013-06-09 05:00:02</td>\n",
       "      <td>2013-07-09 05:00:02</td>\n",
       "      <td>successful</td>\n",
       "      <td>4000.0</td>\n",
       "      <td>58766.58</td>\n",
       "      <td>14.69165</td>\n",
       "      <td>3251</td>\n",
       "      <td>...</td>\n",
       "      <td>5.48181</td>\n",
       "      <td>493</td>\n",
       "      <td>48</td>\n",
       "      <td>0</td>\n",
       "      <td>6</td>\n",
       "      <td>34</td>\n",
       "      <td>1.3333</td>\n",
       "      <td>boardgame</td>\n",
       "      <td>Party Game</td>\n",
       "      <td>NaN</td>\n",
       "    </tr>\n",
       "    <tr>\n",
       "      <th>5</th>\n",
       "      <td>Euphoria: Build a Better Dystopia</td>\n",
       "      <td>Games</td>\n",
       "      <td>Tabletop Games</td>\n",
       "      <td>2013-05-15 14:29:26</td>\n",
       "      <td>2013-06-13 04:00:00</td>\n",
       "      <td>successful</td>\n",
       "      <td>15000.0</td>\n",
       "      <td>309495.75</td>\n",
       "      <td>20.63305</td>\n",
       "      <td>4765</td>\n",
       "      <td>...</td>\n",
       "      <td>7.04005</td>\n",
       "      <td>8547</td>\n",
       "      <td>200</td>\n",
       "      <td>568</td>\n",
       "      <td>2174</td>\n",
       "      <td>1395</td>\n",
       "      <td>3.1150</td>\n",
       "      <td>boardgame,strategygames</td>\n",
       "      <td>Science Fiction</td>\n",
       "      <td>Dice Rolling,Hand Management,Set Collection,Va...</td>\n",
       "    </tr>\n",
       "    <tr>\n",
       "      <th>6</th>\n",
       "      <td>Xia: Legends of a Drift System</td>\n",
       "      <td>Games</td>\n",
       "      <td>Tabletop Games</td>\n",
       "      <td>2013-05-17 07:17:18</td>\n",
       "      <td>2013-06-22 05:00:00</td>\n",
       "      <td>successful</td>\n",
       "      <td>100000.0</td>\n",
       "      <td>346772.24</td>\n",
       "      <td>3.46772</td>\n",
       "      <td>3293</td>\n",
       "      <td>...</td>\n",
       "      <td>7.29414</td>\n",
       "      <td>6599</td>\n",
       "      <td>65</td>\n",
       "      <td>855</td>\n",
       "      <td>2870</td>\n",
       "      <td>985</td>\n",
       "      <td>3.1202</td>\n",
       "      <td>boardgame,thematic,strategygames</td>\n",
       "      <td>Adventure,Exploration,Fighting,Miniatures,Scie...</td>\n",
       "      <td>Action Point Allowance System,Dice Rolling,Gri...</td>\n",
       "    </tr>\n",
       "    <tr>\n",
       "      <th>7</th>\n",
       "      <td>Kingdom</td>\n",
       "      <td>Games</td>\n",
       "      <td>Tabletop Games</td>\n",
       "      <td>2013-05-29 21:51:41</td>\n",
       "      <td>2013-06-25 05:00:00</td>\n",
       "      <td>successful</td>\n",
       "      <td>2500.0</td>\n",
       "      <td>30303.24</td>\n",
       "      <td>12.12130</td>\n",
       "      <td>1113</td>\n",
       "      <td>...</td>\n",
       "      <td>0.00000</td>\n",
       "      <td>59</td>\n",
       "      <td>5</td>\n",
       "      <td>2</td>\n",
       "      <td>3</td>\n",
       "      <td>10</td>\n",
       "      <td>3.0000</td>\n",
       "      <td>boardgame</td>\n",
       "      <td>Medieval</td>\n",
       "      <td>Dice Rolling</td>\n",
       "    </tr>\n",
       "    <tr>\n",
       "      <th>8</th>\n",
       "      <td>Kingdom</td>\n",
       "      <td>Games</td>\n",
       "      <td>Tabletop Games</td>\n",
       "      <td>2013-05-29 21:51:41</td>\n",
       "      <td>2013-06-25 05:00:00</td>\n",
       "      <td>successful</td>\n",
       "      <td>2500.0</td>\n",
       "      <td>30303.24</td>\n",
       "      <td>12.12130</td>\n",
       "      <td>1113</td>\n",
       "      <td>...</td>\n",
       "      <td>0.00000</td>\n",
       "      <td>0</td>\n",
       "      <td>0</td>\n",
       "      <td>0</td>\n",
       "      <td>1</td>\n",
       "      <td>0</td>\n",
       "      <td>0.0000</td>\n",
       "      <td>boardgame</td>\n",
       "      <td>Abstract Strategy</td>\n",
       "      <td>Area Control / Area Influence,Grid Movement</td>\n",
       "    </tr>\n",
       "    <tr>\n",
       "      <th>9</th>\n",
       "      <td>Kingdom</td>\n",
       "      <td>Games</td>\n",
       "      <td>Tabletop Games</td>\n",
       "      <td>2013-05-29 21:51:41</td>\n",
       "      <td>2013-06-25 05:00:00</td>\n",
       "      <td>successful</td>\n",
       "      <td>2500.0</td>\n",
       "      <td>30303.24</td>\n",
       "      <td>12.12130</td>\n",
       "      <td>1113</td>\n",
       "      <td>...</td>\n",
       "      <td>0.00000</td>\n",
       "      <td>7</td>\n",
       "      <td>0</td>\n",
       "      <td>1</td>\n",
       "      <td>3</td>\n",
       "      <td>1</td>\n",
       "      <td>0.0000</td>\n",
       "      <td>boardgame</td>\n",
       "      <td>Card Game,Fantasy</td>\n",
       "      <td>Dice Rolling</td>\n",
       "    </tr>\n",
       "  </tbody>\n",
       "</table>\n",
       "<p>10 rows × 29 columns</p>\n",
       "</div>"
      ],
      "text/plain": [
       "                                 name main_category    sub_category  \\\n",
       "0  Fairytale Games: The Battle Royale         Games  Tabletop Games   \n",
       "1                       New Amsterdam         Games  Tabletop Games   \n",
       "2                        Cthulhu Wars         Games  Tabletop Games   \n",
       "3                            Rockwell         Games  Tabletop Games   \n",
       "4                 Something Different         Games  Tabletop Games   \n",
       "5   Euphoria: Build a Better Dystopia         Games  Tabletop Games   \n",
       "6      Xia: Legends of a Drift System         Games  Tabletop Games   \n",
       "7                             Kingdom         Games  Tabletop Games   \n",
       "8                             Kingdom         Games  Tabletop Games   \n",
       "9                             Kingdom         Games  Tabletop Games   \n",
       "\n",
       "           launched_at             deadline       state      goal     pledged  \\\n",
       "0  2013-06-03 15:28:41  2013-07-03 15:28:41  successful   35000.0   139658.11   \n",
       "1  2013-06-04 11:37:24  2013-06-29 03:59:00  successful    5000.0    34743.00   \n",
       "2  2013-06-07 19:14:50  2013-07-07 19:14:50  successful   40000.0  1403981.04   \n",
       "3  2013-06-08 23:15:40  2013-07-08 23:15:40  successful   12000.0    21852.00   \n",
       "4  2013-06-09 05:00:02  2013-07-09 05:00:02  successful    4000.0    58766.58   \n",
       "5  2013-05-15 14:29:26  2013-06-13 04:00:00  successful   15000.0   309495.75   \n",
       "6  2013-05-17 07:17:18  2013-06-22 05:00:00  successful  100000.0   346772.24   \n",
       "7  2013-05-29 21:51:41  2013-06-25 05:00:00  successful    2500.0    30303.24   \n",
       "8  2013-05-29 21:51:41  2013-06-25 05:00:00  successful    2500.0    30303.24   \n",
       "9  2013-05-29 21:51:41  2013-06-25 05:00:00  successful    2500.0    30303.24   \n",
       "\n",
       "   percentage_funded  backers_count  \\\n",
       "0            3.99023           1340   \n",
       "1            6.94860            365   \n",
       "2           35.09953           4389   \n",
       "3            1.82100            303   \n",
       "4           14.69165           3251   \n",
       "5           20.63305           4765   \n",
       "6            3.46772           3293   \n",
       "7           12.12130           1113   \n",
       "8           12.12130           1113   \n",
       "9           12.12130           1113   \n",
       "\n",
       "                         ...                          bayes_average_rating  \\\n",
       "0                        ...                                       5.46066   \n",
       "1                        ...                                       6.33103   \n",
       "2                        ...                                       7.18197   \n",
       "3                        ...                                       6.04422   \n",
       "4                        ...                                       5.48181   \n",
       "5                        ...                                       7.04005   \n",
       "6                        ...                                       7.29414   \n",
       "7                        ...                                       0.00000   \n",
       "8                        ...                                       0.00000   \n",
       "9                        ...                                       0.00000   \n",
       "\n",
       "  total_owners  total_traders  total_wanters  total_wishers  total_comments  \\\n",
       "0          258             26             13             81              56   \n",
       "1         1411             76            102            350             328   \n",
       "2         3571             34            311           1500             629   \n",
       "3          891             29             61            198             125   \n",
       "4          493             48              0              6              34   \n",
       "5         8547            200            568           2174            1395   \n",
       "6         6599             65            855           2870             985   \n",
       "7           59              5              2              3              10   \n",
       "8            0              0              0              1               0   \n",
       "9            7              0              1              3               1   \n",
       "\n",
       "   average_weight                             types  \\\n",
       "0          3.7500                boardgame,thematic   \n",
       "1          3.2308           boardgame,strategygames   \n",
       "2          3.1099  boardgame,thematic,strategygames   \n",
       "3          3.1951           boardgame,strategygames   \n",
       "4          1.3333                         boardgame   \n",
       "5          3.1150           boardgame,strategygames   \n",
       "6          3.1202  boardgame,thematic,strategygames   \n",
       "7          3.0000                         boardgame   \n",
       "8          0.0000                         boardgame   \n",
       "9          0.0000                         boardgame   \n",
       "\n",
       "                                          categories  \\\n",
       "0  Adventure,Bluffing,Card Game,Exploration,Fanta...   \n",
       "1                               Economic,Renaissance   \n",
       "2                 Fantasy,Fighting,Horror,Miniatures   \n",
       "3  Economic,Exploration,Industry / Manufacturing,...   \n",
       "4                                         Party Game   \n",
       "5                                    Science Fiction   \n",
       "6  Adventure,Exploration,Fighting,Miniatures,Scie...   \n",
       "7                                           Medieval   \n",
       "8                                  Abstract Strategy   \n",
       "9                                  Card Game,Fantasy   \n",
       "\n",
       "                                           mechanics  \n",
       "0  Campaign / Battle Card Driven,Card Drafting,Co...  \n",
       "1  Area Control / Area Influence,Auction/Bidding,...  \n",
       "2  Action Point Allowance System,Area Movement,Di...  \n",
       "3  Area Control / Area Influence,Area Movement,Mo...  \n",
       "4                                                NaN  \n",
       "5  Dice Rolling,Hand Management,Set Collection,Va...  \n",
       "6  Action Point Allowance System,Dice Rolling,Gri...  \n",
       "7                                       Dice Rolling  \n",
       "8        Area Control / Area Influence,Grid Movement  \n",
       "9                                       Dice Rolling  \n",
       "\n",
       "[10 rows x 29 columns]"
      ]
     },
     "execution_count": 31,
     "metadata": {},
     "output_type": "execute_result"
    }
   ],
   "source": [
    "merged.head(10)"
   ]
  },
  {
   "cell_type": "code",
   "execution_count": 23,
   "metadata": {},
   "outputs": [
    {
     "data": {
      "text/plain": [
       "<matplotlib.image.AxesImage at 0x15169aa7c18>"
      ]
     },
     "execution_count": 23,
     "metadata": {},
     "output_type": "execute_result"
    },
    {
     "data": {
      "image/png": "[encoded data removed]",
      "text/plain": [
       "<Figure size 288x288 with 1 Axes>"
      ]
     },
     "metadata": {},
     "output_type": "display_data"
    }
   ],
   "source": [
    "plt.matshow(merged.corr())"
   ]
  },
  {
   "cell_type": "code",
   "execution_count": 33,
   "metadata": {},
   "outputs": [],
   "source": [
    "merged2 = merged.loc[:, ['name', 'goal', 'pledged', 'percentage_funded', 'backers_count', 'average_rating', 'users_rated', 'total_owners', 'total_wanters', 'total_comments', 'average_weight']]"
   ]
  },
  {
   "cell_type": "code",
   "execution_count": 34,
   "metadata": {},
   "outputs": [
    {
     "data": {
      "text/plain": [
       "<matplotlib.image.AxesImage at 0x190165f9d68>"
      ]
     },
     "execution_count": 34,
     "metadata": {},
     "output_type": "execute_result"
    },
    {
     "data": {
      "image/png": "[encoded data removed]",
      "text/plain": [
       "<Figure size 288x288 with 1 Axes>"
      ]
     },
     "metadata": {},
     "output_type": "display_data"
    }
   ],
   "source": [
    "plt.matshow(merged2.corr())"
   ]
  },
  {
   "cell_type": "code",
   "execution_count": 35,
   "metadata": {},
   "outputs": [
    {
     "data": {
      "text/plain": [
       "1249"
      ]
     },
     "execution_count": 35,
     "metadata": {},
     "output_type": "execute_result"
    }
   ],
   "source": [
    "len(merged2)"
   ]
  },
  {
   "cell_type": "code",
   "execution_count": 36,
   "metadata": {},
   "outputs": [
    {
     "data": {
      "text/plain": [
       "<matplotlib.axes._subplots.AxesSubplot at 0x19012f07a58>"
      ]
     },
     "execution_count": 36,
     "metadata": {},
     "output_type": "execute_result"
    },
    {
     "data": {
      "image/png": "[encoded data removed]",
      "text/plain": [
       "<Figure size 432x288 with 1 Axes>"
      ]
     },
     "metadata": {},
     "output_type": "display_data"
    }
   ],
   "source": [
    "merged2.plot(x='backers_count', y='average_rating', kind='scatter')"
   ]
  },
  {
   "cell_type": "code",
   "execution_count": 51,
   "metadata": {},
   "outputs": [],
   "source": [
    "lr = LinearRegression()\n",
    "clf = MLPClassifier(solver='lbfgs', alpha=1e-5, hidden_layer_sizes=(5, 2), random_state=1)"
   ]
  },
  {
   "cell_type": "code",
   "execution_count": 73,
   "metadata": {},
   "outputs": [],
   "source": [
    "Xt = merged2.loc[0:800, ['goal', 'pledged', 'percentage_funded', 'backers_count', 'total_owners', 'average_weight']].values\n",
    "yt = merged2.loc[0:800, ['average_rating']].values.astype(int)\n",
    "zt = numpy.ravel(yt)"
   ]
  },
  {
   "cell_type": "code",
   "execution_count": 91,
   "metadata": {},
   "outputs": [
    {
     "data": {
      "text/plain": [
       "LinearRegression(copy_X=True, fit_intercept=True, n_jobs=1, normalize=False)"
      ]
     },
     "execution_count": 91,
     "metadata": {},
     "output_type": "execute_result"
    }
   ],
   "source": [
    "lr.fit(Xt, zt)"
   ]
  },
  {
   "cell_type": "code",
   "execution_count": 92,
   "metadata": {},
   "outputs": [],
   "source": [
    "Xs = merged2.loc[801:1606, ['goal', 'pledged', 'percentage_funded', 'backers_count', 'total_owners', 'average_weight']].values\n",
    "ys = merged2.loc[801:1606, ['average_rating']].values.astype(int)\n",
    "zs = numpy.ravel(ys)"
   ]
  },
  {
   "cell_type": "code",
   "execution_count": 93,
   "metadata": {},
   "outputs": [],
   "source": [
    "Xp = merged2.loc[801:801, ['goal', 'pledged', 'percentage_funded', 'backers_count', 'total_owners', 'average_weight']].values"
   ]
  },
  {
   "cell_type": "code",
   "execution_count": 96,
   "metadata": {},
   "outputs": [
    {
     "data": {
      "text/plain": [
       "array([4.95182854])"
      ]
     },
     "execution_count": 96,
     "metadata": {},
     "output_type": "execute_result"
    }
   ],
   "source": [
    "lr.predict(Xp)"
   ]
  },
  {
   "cell_type": "code",
   "execution_count": 95,
   "metadata": {},
   "outputs": [
    {
     "data": {
      "text/plain": [
       "array([[7.35533]])"
      ]
     },
     "execution_count": 95,
     "metadata": {},
     "output_type": "execute_result"
    }
   ],
   "source": [
    "merged2.loc[801:801, ['average_rating']].values"
   ]
  },
  {
   "cell_type": "code",
   "execution_count": 97,
   "metadata": {},
   "outputs": [
    {
     "data": {
      "text/plain": [
       "0.0010779215047729274"
      ]
     },
     "execution_count": 97,
     "metadata": {},
     "output_type": "execute_result"
    }
   ],
   "source": [
    "lr.score(Xs, zs)"
   ]
  },
  {
   "cell_type": "code",
   "execution_count": null,
   "metadata": {},
   "outputs": [],
   "source": []
  }
 ],
 "metadata": {
  "kernelspec": {
   "display_name": "Python 3",
   "language": "python",
   "name": "python3"
  },
  "language_info": {
   "codemirror_mode": {
    "name": "ipython",
    "version": 3
   },
   "file_extension": ".py",
   "mimetype": "text/x-python",
   "name": "python",
   "nbconvert_exporter": "python",
   "pygments_lexer": "ipython3",
   "version": "3.6.5"
  }
 },
 "nbformat": 4,
 "nbformat_minor": 2
}
