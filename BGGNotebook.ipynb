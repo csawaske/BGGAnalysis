{
 "cells": [
  {
   "cell_type": "code",
   "execution_count": 1,
   "metadata": {},
   "outputs": [],
   "source": [
    "import csv, numpy, pandas as pd, matplotlib.pyplot as plt\n",
    "from sklearn.linear_model import LinearRegression\n",
    "from sklearn.neural_network import MLPClassifier"
   ]
  },
  {
   "cell_type": "code",
   "execution_count": 42,
   "metadata": {},
   "outputs": [],
   "source": [
    "kickData = pd.read_csv('kickGamesData.csv', usecols=['name', 'main_category', 'sub_category', 'launched_at', 'deadline', 'state', 'goal', 'pledged', 'percentage_funded', 'backers_count', 'popularity_rank', 'currency'], escapechar='\\\\')\n",
    "kickData = kickData.query('state == \"successful\"')\n",
    "bggData = pd.read_csv('bggData.csv', usecols=['name', 'minplayers', 'maxplayers', 'playingtime', 'minplaytime', 'maxplaytime', 'users_rated', 'average_rating', 'bayes_average_rating', 'total_owners', 'total_traders', 'total_wanters', 'total_wishers', 'total_comments', 'average_weight', 'types', 'categories', 'mechanics'])"
   ]
  },
  {
   "cell_type": "code",
   "execution_count": 43,
   "metadata": {},
   "outputs": [
    {
     "data": {
      "text/html": [
       "<div>\n",
       "<style scoped>\n",
       "    .dataframe tbody tr th:only-of-type {\n",
       "        vertical-align: middle;\n",
       "    }\n",
       "\n",
       "    .dataframe tbody tr th {\n",
       "        vertical-align: top;\n",
       "    }\n",
       "\n",
       "    .dataframe thead th {\n",
       "        text-align: right;\n",
       "    }\n",
       "</style>\n",
       "<table border=\"1\" class=\"dataframe\">\n",
       "  <thead>\n",
       "    <tr style=\"text-align: right;\">\n",
       "      <th></th>\n",
       "      <th>name</th>\n",
       "      <th>main_category</th>\n",
       "      <th>sub_category</th>\n",
       "      <th>launched_at</th>\n",
       "      <th>deadline</th>\n",
       "      <th>state</th>\n",
       "      <th>goal</th>\n",
       "      <th>pledged</th>\n",
       "      <th>percentage_funded</th>\n",
       "      <th>backers_count</th>\n",
       "      <th>popularity_rank</th>\n",
       "      <th>currency</th>\n",
       "    </tr>\n",
       "  </thead>\n",
       "  <tbody>\n",
       "    <tr>\n",
       "      <th>0</th>\n",
       "      <td>Havoc Boards</td>\n",
       "      <td>Games</td>\n",
       "      <td>Tabletop Games</td>\n",
       "      <td>2013-06-03 04:07:48</td>\n",
       "      <td>2013-07-18 04:07:48</td>\n",
       "      <td>successful</td>\n",
       "      <td>20000.0</td>\n",
       "      <td>25348.68</td>\n",
       "      <td>1.26743</td>\n",
       "      <td>478</td>\n",
       "      <td>NaN</td>\n",
       "      <td>USD</td>\n",
       "    </tr>\n",
       "    <tr>\n",
       "      <th>2</th>\n",
       "      <td>Fairytale Games: The Battle Royale</td>\n",
       "      <td>Games</td>\n",
       "      <td>Tabletop Games</td>\n",
       "      <td>2013-06-03 15:28:41</td>\n",
       "      <td>2013-07-03 15:28:41</td>\n",
       "      <td>successful</td>\n",
       "      <td>35000.0</td>\n",
       "      <td>139658.11</td>\n",
       "      <td>3.99023</td>\n",
       "      <td>1340</td>\n",
       "      <td>NaN</td>\n",
       "      <td>USD</td>\n",
       "    </tr>\n",
       "    <tr>\n",
       "      <th>3</th>\n",
       "      <td>Freeblades Fantasy Miniatures: Falkaaran Adven...</td>\n",
       "      <td>Games</td>\n",
       "      <td>Tabletop Games</td>\n",
       "      <td>2013-06-03 17:40:05</td>\n",
       "      <td>2013-07-03 17:40:05</td>\n",
       "      <td>successful</td>\n",
       "      <td>7500.0</td>\n",
       "      <td>9238.00</td>\n",
       "      <td>1.23173</td>\n",
       "      <td>129</td>\n",
       "      <td>NaN</td>\n",
       "      <td>USD</td>\n",
       "    </tr>\n",
       "    <tr>\n",
       "      <th>7</th>\n",
       "      <td>The Big Fix - A Noir Card Game</td>\n",
       "      <td>Games</td>\n",
       "      <td>Tabletop Games</td>\n",
       "      <td>2013-06-04 01:44:29</td>\n",
       "      <td>2013-07-04 01:44:29</td>\n",
       "      <td>successful</td>\n",
       "      <td>10000.0</td>\n",
       "      <td>13258.00</td>\n",
       "      <td>1.32580</td>\n",
       "      <td>447</td>\n",
       "      <td>NaN</td>\n",
       "      <td>USD</td>\n",
       "    </tr>\n",
       "    <tr>\n",
       "      <th>10</th>\n",
       "      <td>New Amsterdam</td>\n",
       "      <td>Games</td>\n",
       "      <td>Tabletop Games</td>\n",
       "      <td>2013-06-04 11:37:24</td>\n",
       "      <td>2013-06-29 03:59:00</td>\n",
       "      <td>successful</td>\n",
       "      <td>5000.0</td>\n",
       "      <td>34743.00</td>\n",
       "      <td>6.94860</td>\n",
       "      <td>365</td>\n",
       "      <td>NaN</td>\n",
       "      <td>USD</td>\n",
       "    </tr>\n",
       "  </tbody>\n",
       "</table>\n",
       "</div>"
      ],
      "text/plain": [
       "                                                 name main_category  \\\n",
       "0                                        Havoc Boards         Games   \n",
       "2                  Fairytale Games: The Battle Royale         Games   \n",
       "3   Freeblades Fantasy Miniatures: Falkaaran Adven...         Games   \n",
       "7                      The Big Fix - A Noir Card Game         Games   \n",
       "10                                      New Amsterdam         Games   \n",
       "\n",
       "      sub_category          launched_at             deadline       state  \\\n",
       "0   Tabletop Games  2013-06-03 04:07:48  2013-07-18 04:07:48  successful   \n",
       "2   Tabletop Games  2013-06-03 15:28:41  2013-07-03 15:28:41  successful   \n",
       "3   Tabletop Games  2013-06-03 17:40:05  2013-07-03 17:40:05  successful   \n",
       "7   Tabletop Games  2013-06-04 01:44:29  2013-07-04 01:44:29  successful   \n",
       "10  Tabletop Games  2013-06-04 11:37:24  2013-06-29 03:59:00  successful   \n",
       "\n",
       "       goal    pledged  percentage_funded  backers_count  popularity_rank  \\\n",
       "0   20000.0   25348.68            1.26743            478              NaN   \n",
       "2   35000.0  139658.11            3.99023           1340              NaN   \n",
       "3    7500.0    9238.00            1.23173            129              NaN   \n",
       "7   10000.0   13258.00            1.32580            447              NaN   \n",
       "10   5000.0   34743.00            6.94860            365              NaN   \n",
       "\n",
       "   currency  \n",
       "0       USD  \n",
       "2       USD  \n",
       "3       USD  \n",
       "7       USD  \n",
       "10      USD  "
      ]
     },
     "execution_count": 43,
     "metadata": {},
     "output_type": "execute_result"
    }
   ],
   "source": [
    "kickData.head()"
   ]
  },
  {
   "cell_type": "code",
   "execution_count": 171,
   "metadata": {
    "scrolled": true
   },
   "outputs": [
    {
     "name": "stdout",
     "output_type": "stream",
     "text": [
      "1249\n"
     ]
    }
   ],
   "source": [
    "merged = kickData.merge(bggData, on='name')\n",
    "print(len(merged))"
   ]
  },
  {
   "cell_type": "code",
   "execution_count": 172,
   "metadata": {},
   "outputs": [
    {
     "data": {
      "text/html": [
       "<div>\n",
       "<style scoped>\n",
       "    .dataframe tbody tr th:only-of-type {\n",
       "        vertical-align: middle;\n",
       "    }\n",
       "\n",
       "    .dataframe tbody tr th {\n",
       "        vertical-align: top;\n",
       "    }\n",
       "\n",
       "    .dataframe thead th {\n",
       "        text-align: right;\n",
       "    }\n",
       "</style>\n",
       "<table border=\"1\" class=\"dataframe\">\n",
       "  <thead>\n",
       "    <tr style=\"text-align: right;\">\n",
       "      <th></th>\n",
       "      <th>name</th>\n",
       "      <th>main_category</th>\n",
       "      <th>sub_category</th>\n",
       "      <th>launched_at</th>\n",
       "      <th>deadline</th>\n",
       "      <th>state</th>\n",
       "      <th>goal</th>\n",
       "      <th>pledged</th>\n",
       "      <th>percentage_funded</th>\n",
       "      <th>backers_count</th>\n",
       "      <th>...</th>\n",
       "      <th>bayes_average_rating</th>\n",
       "      <th>total_owners</th>\n",
       "      <th>total_traders</th>\n",
       "      <th>total_wanters</th>\n",
       "      <th>total_wishers</th>\n",
       "      <th>total_comments</th>\n",
       "      <th>average_weight</th>\n",
       "      <th>types</th>\n",
       "      <th>categories</th>\n",
       "      <th>mechanics</th>\n",
       "    </tr>\n",
       "  </thead>\n",
       "  <tbody>\n",
       "    <tr>\n",
       "      <th>0</th>\n",
       "      <td>Fairytale Games: The Battle Royale</td>\n",
       "      <td>Games</td>\n",
       "      <td>Tabletop Games</td>\n",
       "      <td>2013-06-03 15:28:41</td>\n",
       "      <td>2013-07-03 15:28:41</td>\n",
       "      <td>successful</td>\n",
       "      <td>35000.0</td>\n",
       "      <td>139658.11</td>\n",
       "      <td>3.99023</td>\n",
       "      <td>1340</td>\n",
       "      <td>...</td>\n",
       "      <td>5.46066</td>\n",
       "      <td>258</td>\n",
       "      <td>26</td>\n",
       "      <td>13</td>\n",
       "      <td>81</td>\n",
       "      <td>56</td>\n",
       "      <td>3.7500</td>\n",
       "      <td>boardgame,thematic</td>\n",
       "      <td>Adventure,Bluffing,Card Game,Exploration,Fanta...</td>\n",
       "      <td>Campaign / Battle Card Driven,Card Drafting,Co...</td>\n",
       "    </tr>\n",
       "    <tr>\n",
       "      <th>1</th>\n",
       "      <td>New Amsterdam</td>\n",
       "      <td>Games</td>\n",
       "      <td>Tabletop Games</td>\n",
       "      <td>2013-06-04 11:37:24</td>\n",
       "      <td>2013-06-29 03:59:00</td>\n",
       "      <td>successful</td>\n",
       "      <td>5000.0</td>\n",
       "      <td>34743.00</td>\n",
       "      <td>6.94860</td>\n",
       "      <td>365</td>\n",
       "      <td>...</td>\n",
       "      <td>6.33103</td>\n",
       "      <td>1411</td>\n",
       "      <td>76</td>\n",
       "      <td>102</td>\n",
       "      <td>350</td>\n",
       "      <td>328</td>\n",
       "      <td>3.2308</td>\n",
       "      <td>boardgame,strategygames</td>\n",
       "      <td>Economic,Renaissance</td>\n",
       "      <td>Area Control / Area Influence,Auction/Bidding,...</td>\n",
       "    </tr>\n",
       "    <tr>\n",
       "      <th>2</th>\n",
       "      <td>Cthulhu Wars</td>\n",
       "      <td>Games</td>\n",
       "      <td>Tabletop Games</td>\n",
       "      <td>2013-06-07 19:14:50</td>\n",
       "      <td>2013-07-07 19:14:50</td>\n",
       "      <td>successful</td>\n",
       "      <td>40000.0</td>\n",
       "      <td>1403981.04</td>\n",
       "      <td>35.09953</td>\n",
       "      <td>4389</td>\n",
       "      <td>...</td>\n",
       "      <td>7.18197</td>\n",
       "      <td>3571</td>\n",
       "      <td>34</td>\n",
       "      <td>311</td>\n",
       "      <td>1500</td>\n",
       "      <td>629</td>\n",
       "      <td>3.1099</td>\n",
       "      <td>boardgame,thematic,strategygames</td>\n",
       "      <td>Fantasy,Fighting,Horror,Miniatures</td>\n",
       "      <td>Action Point Allowance System,Area Movement,Di...</td>\n",
       "    </tr>\n",
       "    <tr>\n",
       "      <th>3</th>\n",
       "      <td>Rockwell</td>\n",
       "      <td>Games</td>\n",
       "      <td>Tabletop Games</td>\n",
       "      <td>2013-06-08 23:15:40</td>\n",
       "      <td>2013-07-08 23:15:40</td>\n",
       "      <td>successful</td>\n",
       "      <td>12000.0</td>\n",
       "      <td>21852.00</td>\n",
       "      <td>1.82100</td>\n",
       "      <td>303</td>\n",
       "      <td>...</td>\n",
       "      <td>6.04422</td>\n",
       "      <td>891</td>\n",
       "      <td>29</td>\n",
       "      <td>61</td>\n",
       "      <td>198</td>\n",
       "      <td>125</td>\n",
       "      <td>3.1951</td>\n",
       "      <td>boardgame,strategygames</td>\n",
       "      <td>Economic,Exploration,Industry / Manufacturing,...</td>\n",
       "      <td>Area Control / Area Influence,Area Movement,Mo...</td>\n",
       "    </tr>\n",
       "    <tr>\n",
       "      <th>4</th>\n",
       "      <td>Something Different</td>\n",
       "      <td>Games</td>\n",
       "      <td>Tabletop Games</td>\n",
       "      <td>2013-06-09 05:00:02</td>\n",
       "      <td>2013-07-09 05:00:02</td>\n",
       "      <td>successful</td>\n",
       "      <td>4000.0</td>\n",
       "      <td>58766.58</td>\n",
       "      <td>14.69165</td>\n",
       "      <td>3251</td>\n",
       "      <td>...</td>\n",
       "      <td>5.48181</td>\n",
       "      <td>493</td>\n",
       "      <td>48</td>\n",
       "      <td>0</td>\n",
       "      <td>6</td>\n",
       "      <td>34</td>\n",
       "      <td>1.3333</td>\n",
       "      <td>boardgame</td>\n",
       "      <td>Party Game</td>\n",
       "      <td>NaN</td>\n",
       "    </tr>\n",
       "  </tbody>\n",
       "</table>\n",
       "<p>5 rows × 29 columns</p>\n",
       "</div>"
      ],
      "text/plain": [
       "                                 name main_category    sub_category  \\\n",
       "0  Fairytale Games: The Battle Royale         Games  Tabletop Games   \n",
       "1                       New Amsterdam         Games  Tabletop Games   \n",
       "2                        Cthulhu Wars         Games  Tabletop Games   \n",
       "3                            Rockwell         Games  Tabletop Games   \n",
       "4                 Something Different         Games  Tabletop Games   \n",
       "\n",
       "           launched_at             deadline       state     goal     pledged  \\\n",
       "0  2013-06-03 15:28:41  2013-07-03 15:28:41  successful  35000.0   139658.11   \n",
       "1  2013-06-04 11:37:24  2013-06-29 03:59:00  successful   5000.0    34743.00   \n",
       "2  2013-06-07 19:14:50  2013-07-07 19:14:50  successful  40000.0  1403981.04   \n",
       "3  2013-06-08 23:15:40  2013-07-08 23:15:40  successful  12000.0    21852.00   \n",
       "4  2013-06-09 05:00:02  2013-07-09 05:00:02  successful   4000.0    58766.58   \n",
       "\n",
       "   percentage_funded  backers_count  \\\n",
       "0            3.99023           1340   \n",
       "1            6.94860            365   \n",
       "2           35.09953           4389   \n",
       "3            1.82100            303   \n",
       "4           14.69165           3251   \n",
       "\n",
       "                         ...                          bayes_average_rating  \\\n",
       "0                        ...                                       5.46066   \n",
       "1                        ...                                       6.33103   \n",
       "2                        ...                                       7.18197   \n",
       "3                        ...                                       6.04422   \n",
       "4                        ...                                       5.48181   \n",
       "\n",
       "  total_owners  total_traders  total_wanters  total_wishers  total_comments  \\\n",
       "0          258             26             13             81              56   \n",
       "1         1411             76            102            350             328   \n",
       "2         3571             34            311           1500             629   \n",
       "3          891             29             61            198             125   \n",
       "4          493             48              0              6              34   \n",
       "\n",
       "   average_weight                             types  \\\n",
       "0          3.7500                boardgame,thematic   \n",
       "1          3.2308           boardgame,strategygames   \n",
       "2          3.1099  boardgame,thematic,strategygames   \n",
       "3          3.1951           boardgame,strategygames   \n",
       "4          1.3333                         boardgame   \n",
       "\n",
       "                                          categories  \\\n",
       "0  Adventure,Bluffing,Card Game,Exploration,Fanta...   \n",
       "1                               Economic,Renaissance   \n",
       "2                 Fantasy,Fighting,Horror,Miniatures   \n",
       "3  Economic,Exploration,Industry / Manufacturing,...   \n",
       "4                                         Party Game   \n",
       "\n",
       "                                           mechanics  \n",
       "0  Campaign / Battle Card Driven,Card Drafting,Co...  \n",
       "1  Area Control / Area Influence,Auction/Bidding,...  \n",
       "2  Action Point Allowance System,Area Movement,Di...  \n",
       "3  Area Control / Area Influence,Area Movement,Mo...  \n",
       "4                                                NaN  \n",
       "\n",
       "[5 rows x 29 columns]"
      ]
     },
     "execution_count": 172,
     "metadata": {},
     "output_type": "execute_result"
    }
   ],
   "source": [
    "merged.head()"
   ]
  },
  {
   "cell_type": "code",
   "execution_count": 54,
   "metadata": {},
   "outputs": [],
   "source": [
    "categories = merged.loc[:, ['categories']]"
   ]
  },
  {
   "cell_type": "code",
   "execution_count": 104,
   "metadata": {},
   "outputs": [],
   "source": [
    "listOfCats = []\n",
    "for c in categories['categories'].astype(str):\n",
    "    listOfCats = listOfCats + c.split(',')\n",
    "listOfCats = list(set(listOfCats))"
   ]
  },
  {
   "cell_type": "code",
   "execution_count": 174,
   "metadata": {},
   "outputs": [],
   "source": [
    "merged_copy = merged.copy()"
   ]
  },
  {
   "cell_type": "code",
   "execution_count": 200,
   "metadata": {},
   "outputs": [],
   "source": [
    "for c in listOfCats:\n",
    "    for index, row in merged_copy.loc[merged_copy['categories'].str.contains(c, na=False)].iterrows():\n",
    "        merged_copy.at[index, c] = True"
   ]
  },
  {
   "cell_type": "code",
   "execution_count": 209,
   "metadata": {},
   "outputs": [
    {
     "name": "stdout",
     "output_type": "stream",
     "text": [
      "Space Exploration\n",
      "1249\n"
     ]
    }
   ],
   "source": [
    "max_cats = []\n",
    "for c in listOfCats:\n",
    "    this_Count = len(merged_copy[c] == True)\n",
    "    if this_Count > max_Count:\n",
    "        max_Count = this_Count\n",
    "        max_cat = c\n",
    "print(max_cat)\n",
    "print(max_Count)"
   ]
  },
  {
   "cell_type": "code",
   "execution_count": 204,
   "metadata": {},
   "outputs": [
    {
     "data": {
      "text/html": [
       "<div>\n",
       "<style scoped>\n",
       "    .dataframe tbody tr th:only-of-type {\n",
       "        vertical-align: middle;\n",
       "    }\n",
       "\n",
       "    .dataframe tbody tr th {\n",
       "        vertical-align: top;\n",
       "    }\n",
       "\n",
       "    .dataframe thead th {\n",
       "        text-align: right;\n",
       "    }\n",
       "</style>\n",
       "<table border=\"1\" class=\"dataframe\">\n",
       "  <thead>\n",
       "    <tr style=\"text-align: right;\">\n",
       "      <th></th>\n",
       "      <th>name</th>\n",
       "      <th>main_category</th>\n",
       "      <th>sub_category</th>\n",
       "      <th>launched_at</th>\n",
       "      <th>deadline</th>\n",
       "      <th>state</th>\n",
       "      <th>goal</th>\n",
       "      <th>pledged</th>\n",
       "      <th>percentage_funded</th>\n",
       "      <th>backers_count</th>\n",
       "      <th>...</th>\n",
       "      <th>Deduction</th>\n",
       "      <th>Post-Napoleonic</th>\n",
       "      <th>American Revolutionary War</th>\n",
       "      <th>American Civil War</th>\n",
       "      <th>World War II</th>\n",
       "      <th>Action / Dexterity</th>\n",
       "      <th>Party Game</th>\n",
       "      <th>Pirates</th>\n",
       "      <th>Trains</th>\n",
       "      <th>Napoleonic</th>\n",
       "    </tr>\n",
       "  </thead>\n",
       "  <tbody>\n",
       "    <tr>\n",
       "      <th>4</th>\n",
       "      <td>Something Different</td>\n",
       "      <td>Games</td>\n",
       "      <td>Tabletop Games</td>\n",
       "      <td>2013-06-09 05:00:02</td>\n",
       "      <td>2013-07-09 05:00:02</td>\n",
       "      <td>successful</td>\n",
       "      <td>4000.0</td>\n",
       "      <td>58766.58</td>\n",
       "      <td>14.69165</td>\n",
       "      <td>3251</td>\n",
       "      <td>...</td>\n",
       "      <td>False</td>\n",
       "      <td>False</td>\n",
       "      <td>False</td>\n",
       "      <td>False</td>\n",
       "      <td>False</td>\n",
       "      <td>False</td>\n",
       "      <td>True</td>\n",
       "      <td>False</td>\n",
       "      <td>False</td>\n",
       "      <td>False</td>\n",
       "    </tr>\n",
       "    <tr>\n",
       "      <th>13</th>\n",
       "      <td>The Red Dragon Inn 4</td>\n",
       "      <td>Games</td>\n",
       "      <td>Tabletop Games</td>\n",
       "      <td>2013-05-02 00:19:18</td>\n",
       "      <td>2013-06-18 18:00:00</td>\n",
       "      <td>successful</td>\n",
       "      <td>10000.0</td>\n",
       "      <td>86474.50</td>\n",
       "      <td>8.64745</td>\n",
       "      <td>1198</td>\n",
       "      <td>...</td>\n",
       "      <td>False</td>\n",
       "      <td>False</td>\n",
       "      <td>False</td>\n",
       "      <td>False</td>\n",
       "      <td>False</td>\n",
       "      <td>False</td>\n",
       "      <td>True</td>\n",
       "      <td>False</td>\n",
       "      <td>False</td>\n",
       "      <td>False</td>\n",
       "    </tr>\n",
       "    <tr>\n",
       "      <th>27</th>\n",
       "      <td>Wrong Chemistry: Expand Your Lab</td>\n",
       "      <td>Games</td>\n",
       "      <td>Tabletop Games</td>\n",
       "      <td>2013-06-30 22:07:38</td>\n",
       "      <td>2013-07-30 22:07:38</td>\n",
       "      <td>successful</td>\n",
       "      <td>7000.0</td>\n",
       "      <td>12749.00</td>\n",
       "      <td>1.82129</td>\n",
       "      <td>261</td>\n",
       "      <td>...</td>\n",
       "      <td>False</td>\n",
       "      <td>False</td>\n",
       "      <td>False</td>\n",
       "      <td>False</td>\n",
       "      <td>False</td>\n",
       "      <td>False</td>\n",
       "      <td>True</td>\n",
       "      <td>False</td>\n",
       "      <td>False</td>\n",
       "      <td>False</td>\n",
       "    </tr>\n",
       "    <tr>\n",
       "      <th>28</th>\n",
       "      <td>Jetpack Unicorn</td>\n",
       "      <td>Games</td>\n",
       "      <td>Tabletop Games</td>\n",
       "      <td>2013-07-03 18:28:35</td>\n",
       "      <td>2013-07-17 18:28:35</td>\n",
       "      <td>successful</td>\n",
       "      <td>12000.0</td>\n",
       "      <td>14634.00</td>\n",
       "      <td>1.21950</td>\n",
       "      <td>431</td>\n",
       "      <td>...</td>\n",
       "      <td>False</td>\n",
       "      <td>False</td>\n",
       "      <td>False</td>\n",
       "      <td>False</td>\n",
       "      <td>False</td>\n",
       "      <td>False</td>\n",
       "      <td>True</td>\n",
       "      <td>False</td>\n",
       "      <td>False</td>\n",
       "      <td>False</td>\n",
       "    </tr>\n",
       "    <tr>\n",
       "      <th>33</th>\n",
       "      <td>Help Wanted</td>\n",
       "      <td>Games</td>\n",
       "      <td>Tabletop Games</td>\n",
       "      <td>2013-07-20 23:00:17</td>\n",
       "      <td>2013-08-23 23:48:00</td>\n",
       "      <td>successful</td>\n",
       "      <td>8500.0</td>\n",
       "      <td>11000.00</td>\n",
       "      <td>1.29412</td>\n",
       "      <td>361</td>\n",
       "      <td>...</td>\n",
       "      <td>False</td>\n",
       "      <td>False</td>\n",
       "      <td>False</td>\n",
       "      <td>False</td>\n",
       "      <td>False</td>\n",
       "      <td>False</td>\n",
       "      <td>True</td>\n",
       "      <td>False</td>\n",
       "      <td>False</td>\n",
       "      <td>False</td>\n",
       "    </tr>\n",
       "  </tbody>\n",
       "</table>\n",
       "<p>5 rows × 113 columns</p>\n",
       "</div>"
      ],
      "text/plain": [
       "                                name main_category    sub_category  \\\n",
       "4                Something Different         Games  Tabletop Games   \n",
       "13              The Red Dragon Inn 4         Games  Tabletop Games   \n",
       "27  Wrong Chemistry: Expand Your Lab         Games  Tabletop Games   \n",
       "28                   Jetpack Unicorn         Games  Tabletop Games   \n",
       "33                       Help Wanted         Games  Tabletop Games   \n",
       "\n",
       "            launched_at             deadline       state     goal   pledged  \\\n",
       "4   2013-06-09 05:00:02  2013-07-09 05:00:02  successful   4000.0  58766.58   \n",
       "13  2013-05-02 00:19:18  2013-06-18 18:00:00  successful  10000.0  86474.50   \n",
       "27  2013-06-30 22:07:38  2013-07-30 22:07:38  successful   7000.0  12749.00   \n",
       "28  2013-07-03 18:28:35  2013-07-17 18:28:35  successful  12000.0  14634.00   \n",
       "33  2013-07-20 23:00:17  2013-08-23 23:48:00  successful   8500.0  11000.00   \n",
       "\n",
       "    percentage_funded  backers_count     ...      Deduction Post-Napoleonic  \\\n",
       "4            14.69165           3251     ...          False           False   \n",
       "13            8.64745           1198     ...          False           False   \n",
       "27            1.82129            261     ...          False           False   \n",
       "28            1.21950            431     ...          False           False   \n",
       "33            1.29412            361     ...          False           False   \n",
       "\n",
       "    American Revolutionary War  American Civil War  World War II  \\\n",
       "4                        False               False         False   \n",
       "13                       False               False         False   \n",
       "27                       False               False         False   \n",
       "28                       False               False         False   \n",
       "33                       False               False         False   \n",
       "\n",
       "    Action / Dexterity  Party Game  Pirates  Trains  Napoleonic  \n",
       "4                False        True    False   False       False  \n",
       "13               False        True    False   False       False  \n",
       "27               False        True    False   False       False  \n",
       "28               False        True    False   False       False  \n",
       "33               False        True    False   False       False  \n",
       "\n",
       "[5 rows x 113 columns]"
      ]
     },
     "execution_count": 204,
     "metadata": {},
     "output_type": "execute_result"
    }
   ],
   "source": [
    "merged_copy[merged_copy['categories'].str.contains('Party', na=False)].head()"
   ]
  },
  {
   "cell_type": "code",
   "execution_count": 62,
   "metadata": {
    "scrolled": false
   },
   "outputs": [
    {
     "data": {
      "text/plain": [
       "<matplotlib.axes._subplots.AxesSubplot at 0x2260a1bb518>"
      ]
     },
     "execution_count": 62,
     "metadata": {},
     "output_type": "execute_result"
    },
    {
     "data": {
      "image/png": "[encoded data removed]",
      "text/plain": [
       "<Figure size 432x288 with 1 Axes>"
      ]
     },
     "metadata": {},
     "output_type": "display_data"
    }
   ],
   "source": [
    "merged.plot(x='average_weight', y='backers_count', kind='scatter')"
   ]
  },
  {
   "cell_type": "code",
   "execution_count": 33,
   "metadata": {},
   "outputs": [],
   "source": [
    "merged2 = merged.loc[:, ['name', 'goal', 'pledged', 'percentage_funded', 'backers_count', 'average_rating', 'users_rated', 'total_owners', 'total_wanters', 'total_comments', 'average_weight']]"
   ]
  },
  {
   "cell_type": "code",
   "execution_count": 34,
   "metadata": {},
   "outputs": [
    {
     "data": {
      "text/plain": [
       "<matplotlib.image.AxesImage at 0x190165f9d68>"
      ]
     },
     "execution_count": 34,
     "metadata": {},
     "output_type": "execute_result"
    },
    {
     "data": {
      "image/png": "[encoded data removed]",
      "text/plain": [
       "<Figure size 288x288 with 1 Axes>"
      ]
     },
     "metadata": {},
     "output_type": "display_data"
    }
   ],
   "source": [
    "plt.matshow(merged2.corr())"
   ]
  },
  {
   "cell_type": "code",
   "execution_count": 35,
   "metadata": {},
   "outputs": [
    {
     "data": {
      "text/plain": [
       "1249"
      ]
     },
     "execution_count": 35,
     "metadata": {},
     "output_type": "execute_result"
    }
   ],
   "source": [
    "len(merged2)"
   ]
  },
  {
   "cell_type": "code",
   "execution_count": 51,
   "metadata": {},
   "outputs": [],
   "source": [
    "lr = LinearRegression()\n",
    "clf = MLPClassifier(solver='lbfgs', alpha=1e-5, hidden_layer_sizes=(5, 2), random_state=1)"
   ]
  },
  {
   "cell_type": "code",
   "execution_count": 73,
   "metadata": {},
   "outputs": [],
   "source": [
    "Xt = merged2.loc[0:800, ['goal', 'pledged', 'percentage_funded', 'backers_count', 'total_owners', 'average_weight']].values\n",
    "yt = merged2.loc[0:800, ['average_rating']].values.astype(int)\n",
    "zt = numpy.ravel(yt)"
   ]
  },
  {
   "cell_type": "code",
   "execution_count": 91,
   "metadata": {},
   "outputs": [
    {
     "data": {
      "text/plain": [
       "LinearRegression(copy_X=True, fit_intercept=True, n_jobs=1, normalize=False)"
      ]
     },
     "execution_count": 91,
     "metadata": {},
     "output_type": "execute_result"
    }
   ],
   "source": [
    "lr.fit(Xt, zt)"
   ]
  },
  {
   "cell_type": "code",
   "execution_count": 92,
   "metadata": {},
   "outputs": [],
   "source": [
    "Xs = merged2.loc[801:1606, ['goal', 'pledged', 'percentage_funded', 'backers_count', 'total_owners', 'average_weight']].values\n",
    "ys = merged2.loc[801:1606, ['average_rating']].values.astype(int)\n",
    "zs = numpy.ravel(ys)"
   ]
  },
  {
   "cell_type": "code",
   "execution_count": 93,
   "metadata": {},
   "outputs": [],
   "source": [
    "Xp = merged2.loc[801:801, ['goal', 'pledged', 'percentage_funded', 'backers_count', 'total_owners', 'average_weight']].values"
   ]
  },
  {
   "cell_type": "code",
   "execution_count": 96,
   "metadata": {},
   "outputs": [
    {
     "data": {
      "text/plain": [
       "array([4.95182854])"
      ]
     },
     "execution_count": 96,
     "metadata": {},
     "output_type": "execute_result"
    }
   ],
   "source": [
    "lr.predict(Xp)"
   ]
  },
  {
   "cell_type": "code",
   "execution_count": 95,
   "metadata": {},
   "outputs": [
    {
     "data": {
      "text/plain": [
       "array([[7.35533]])"
      ]
     },
     "execution_count": 95,
     "metadata": {},
     "output_type": "execute_result"
    }
   ],
   "source": [
    "merged2.loc[801:801, ['average_rating']].values"
   ]
  },
  {
   "cell_type": "code",
   "execution_count": 97,
   "metadata": {},
   "outputs": [
    {
     "data": {
      "text/plain": [
       "0.0010779215047729274"
      ]
     },
     "execution_count": 97,
     "metadata": {},
     "output_type": "execute_result"
    }
   ],
   "source": [
    "lr.score(Xs, zs)"
   ]
  },
  {
   "cell_type": "code",
   "execution_count": null,
   "metadata": {},
   "outputs": [],
   "source": []
  }
 ],
 "metadata": {
  "kernelspec": {
   "display_name": "Python 3",
   "language": "python",
   "name": "python3"
  },
  "language_info": {
   "codemirror_mode": {
    "name": "ipython",
    "version": 3
   },
   "file_extension": ".py",
   "mimetype": "text/x-python",
   "name": "python",
   "nbconvert_exporter": "python",
   "pygments_lexer": "ipython3",
   "version": "3.6.5"
  }
 },
 "nbformat": 4,
 "nbformat_minor": 2
}
