{
 "cells": [
  {
   "cell_type": "code",
   "execution_count": 2,
   "metadata": {},
   "outputs": [
    {
     "name": "stdout",
     "output_type": "stream",
     "text": [
      "95777\n"
     ]
    }
   ],
   "source": [
    "import pandas as pd"
   ]
  },
  {
   "cell_type": "code",
   "execution_count": 18,
   "metadata": {},
   "outputs": [],
   "source": [
    "# Read in Kickstarter data with the given fields and a successful funding state\n",
    "kickData = pd.read_csv('kickGamesData.csv',\n",
    "                       usecols=['name', 'main_category', 'sub_category',\n",
    "                                'launched_at', 'deadline', 'state', 'goal',\n",
    "                                'pledged', 'percentage_funded', 'backers_count',\n",
    "                                'popularity_rank', 'currency'], escapechar='\\\\')\n",
    "kickData = kickData.query('state == \"successful\"')\n",
    "\n",
    "# Read in BoardGameGeek data with the given fields\n",
    "bggData = pd.read_csv('bggData.csv',\n",
    "                      usecols=['name', 'yearpublished', 'minplayers', 'maxplayers',\n",
    "                               'playingtime', 'minplaytime', 'maxplaytime',\n",
    "                               'users_rated', 'average_rating',\n",
    "                               'bayes_average_rating', 'total_owners',\n",
    "                               'total_traders', 'total_wanters', 'total_wishers',\n",
    "                               'total_comments', 'average_weight', 'types',\n",
    "                               'categories', 'mechanics'])\n",
    "bggData = bggData.query('yearpublished > 2008')"
   ]
  },
  {
   "cell_type": "code",
   "execution_count": null,
   "metadata": {},
   "outputs": [],
   "source": [
    "pct = 0.0\n",
    "for index, row in kickData.iterrows():\n",
    "    best_score = 0\n",
    "    best_title = \"\"\n",
    "    for index2, row2 in bggData.iterrows():\n",
    "        this_score = Levenshtein.distance(kickData.loc[index, 'name'], bggData.loc[index2, 'name'])\n",
    "        if this_score > best_score:\n",
    "            best_score = this_score\n",
    "            best_title = bggData.loc[index2, 'name']\n",
    "    kickData[index, 'name2'] = best_title\n",
    "    kickData[index, 'name_match_score'] = best_score\n",
    "\n",
    "    if index/7097 > (pct+.001):\n",
    "        pct = round(pct+.001, 3)\n",
    "        print(str(pct), end = \" \")"
   ]
  }
 ],
 "metadata": {
  "kernelspec": {
   "display_name": "Python 3",
   "language": "python",
   "name": "python3"
  },
  "language_info": {
   "codemirror_mode": {
    "name": "ipython",
    "version": 3
   },
   "file_extension": ".py",
   "mimetype": "text/x-python",
   "name": "python",
   "nbconvert_exporter": "python",
   "pygments_lexer": "ipython3",
   "version": "3.6.5"
  }
 },
 "nbformat": 4,
 "nbformat_minor": 2
}
