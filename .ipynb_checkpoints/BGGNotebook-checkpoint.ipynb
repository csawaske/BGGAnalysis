{
 "cells": [
  {
   "cell_type": "code",
   "execution_count": 2,
   "metadata": {
    "collapsed": true
   },
   "outputs": [
    {
     "name": "stdout",
     "output_type": "stream",
     "text": [
      "Requirement already satisfied: msgpack in c:\\users\\connor\\anaconda3\\lib\\site-packages (0.6.0)\n",
      "Requirement already satisfied: kmodes in c:\\users\\connor\\anaconda3\\lib\\site-packages (0.9)\n",
      "Requirement already satisfied: scipy>=0.13.3 in c:\\users\\connor\\anaconda3\\lib\\site-packages (from kmodes) (1.1.0)\n",
      "Requirement already satisfied: scikit-learn<0.20.0,>=0.19.0 in c:\\users\\connor\\anaconda3\\lib\\site-packages (from kmodes) (0.19.1)\n",
      "Requirement already satisfied: numpy>=1.10.4 in c:\\users\\connor\\anaconda3\\lib\\site-packages (from kmodes) (1.14.3)\n",
      "Requirement already satisfied: fuzzywuzzy in c:\\users\\connor\\anaconda3\\lib\\site-packages (0.17.0)\n",
      "Collecting python-Levenshtein\n",
      "  Using cached https://files.pythonhosted.org/packages/42/a9/d1785c85ebf9b7dfacd08938dd028209c34a0ea3b1bcdb895208bd40a67d/python-Levenshtein-0.12.0.tar.gz\n",
      "Requirement already satisfied: setuptools in c:\\users\\connor\\anaconda3\\lib\\site-packages (from python-Levenshtein) (39.1.0)\n",
      "Building wheels for collected packages: python-Levenshtein\n",
      "  Running setup.py bdist_wheel for python-Levenshtein: started\n",
      "  Running setup.py bdist_wheel for python-Levenshtein: finished with status 'done'\n",
      "  Stored in directory: C:\\Users\\Connor\\AppData\\Local\\pip\\Cache\\wheels\\de\\c2\\93\\660fd5f7559049268ad2dc6d81c4e39e9e36518766eaf7e342\n",
      "Successfully built python-Levenshtein\n",
      "Installing collected packages: python-Levenshtein\n",
      "Successfully installed python-Levenshtein-0.12.0\n"
     ]
    }
   ],
   "source": [
    "!pip install msgpack\n",
    "!pip install kmodes\n",
    "!pip install fuzzywuzzy\n",
    "!pip install python-Levenshtein"
   ]
  },
  {
   "cell_type": "code",
   "execution_count": 16,
   "metadata": {},
   "outputs": [],
   "source": [
    "import csv, numpy as np, pandas as pd, matplotlib.pyplot as plt\n",
    "from collections import Counter\n",
    "from sklearn.linear_model import LinearRegression\n",
    "from sklearn.neural_network import MLPClassifier\n",
    "from sklearn.cluster import KMeans\n",
    "from kmodes.kmodes import KModes\n",
    "from fuzzywuzzy import fuzz\n",
    "from fuzzywuzzy import process\n",
    "from Levenshtein import *"
   ]
  },
  {
   "cell_type": "code",
   "execution_count": 27,
   "metadata": {},
   "outputs": [],
   "source": [
    "# Read in Kickstarter data with the given fields and a successful funding state\n",
    "kickData = pd.read_csv('kickGamesData.csv',\n",
    "                       usecols=['name', 'main_category', 'sub_category',\n",
    "                                'launched_at', 'deadline', 'state', 'goal',\n",
    "                                'pledged', 'percentage_funded', 'backers_count',\n",
    "                                'popularity_rank', 'currency'], escapechar='\\\\')\n",
    "kickData = kickData.query('state == \"successful\"')\n",
    "\n",
    "# Read in BoardGameGeek data with the given fields\n",
    "bggData = pd.read_csv('bggData.csv',\n",
    "                      usecols=['name', 'yearpublished', 'minplayers', 'maxplayers',\n",
    "                               'playingtime', 'minplaytime', 'maxplaytime',\n",
    "                               'users_rated', 'average_rating',\n",
    "                               'bayes_average_rating', 'total_owners',\n",
    "                               'total_traders', 'total_wanters', 'total_wishers',\n",
    "                               'total_comments', 'average_weight', 'types',\n",
    "                               'categories', 'mechanics'])\n",
    "bggData = bggData.query('yearpublished > 2008')"
   ]
  },
  {
   "cell_type": "code",
   "execution_count": 83,
   "metadata": {},
   "outputs": [],
   "source": [
    "# Join the two tables on 'name' field\n",
    "merged = kickData.merge(bggData, on='name')"
   ]
  },
  {
   "cell_type": "code",
   "execution_count": 28,
   "metadata": {},
   "outputs": [
    {
     "name": "stdout",
     "output_type": "stream",
     "text": [
      "40191\n",
      "7097\n",
      "1249\n"
     ]
    }
   ],
   "source": [
    "print(len(bggData))\n",
    "print(len(kickData))\n",
    "print(len(merged))"
   ]
  },
  {
   "cell_type": "code",
   "execution_count": 76,
   "metadata": {},
   "outputs": [],
   "source": [
    "# Create list of all categories present in 'categories' field, unraveled\n",
    "categories = merged.loc[:, ['categories']]\n",
    "list_of_cats = []\n",
    "for c in categories['categories'].astype(str):\n",
    "    list_of_cats = list_of_cats + c.split(',')\n",
    "# Strip to unique entries\n",
    "list_of_cats = list(set(list_of_cats))"
   ]
  },
  {
   "cell_type": "code",
   "execution_count": 77,
   "metadata": {
    "collapsed": true
   },
   "outputs": [
    {
     "name": "stdout",
     "output_type": "stream",
     "text": [
      "['American Indian Wars', 'Animals', 'Puzzle', 'Spies/Secret Agents', 'Nautical', 'Math', 'Novel-based', 'Movies / TV / Radio theme', 'Party Game', 'Mature / Adult', 'Environmental', 'World War I', 'Trivia', 'Medical', 'Zombies', 'Ancient', 'Game System', 'Exploration', 'nan', 'Horror', 'Age of Reason', 'Bluffing', 'City Building', 'Science Fiction', 'Arabian', 'Number', 'Vietnam War', 'Fantasy', 'Wargame', 'Memory', 'Territory Building', 'Print & Play', 'Transportation', 'Music', 'Mythology', 'Mafia', 'Book', 'Maze', 'Humor', 'Sports', 'Expansion for Base-game', 'American Civil War', 'Negotiation', 'Dice', 'Fan Expansion', 'Farming', 'Space Exploration', 'Real-time', 'Religious', 'Renaissance', 'Miniatures', 'Adventure', 'Deduction', 'Abstract Strategy', 'Political', 'Comic Book / Strip', 'Word Game', 'Action / Dexterity', 'American Revolutionary War', 'Travel', 'Card Game', 'Pirates', \"Children's Game\", 'Trains', 'Economic', 'Medieval', 'Aviation / Flight', 'Civil War', 'World War II', 'Prehistoric', 'Modern Warfare', 'Industry / Manufacturing', 'Electronic', 'Murder/Mystery', 'Video Game Theme', 'Post-Napoleonic', 'American West', 'Racing', 'Fighting', 'Educational', 'Collectible Components', 'Napoleonic', 'Civilization']\n"
     ]
    }
   ],
   "source": [
    "print(list_of_cats)"
   ]
  },
  {
   "cell_type": "code",
   "execution_count": 79,
   "metadata": {},
   "outputs": [],
   "source": [
    "# Pare down list to remove categories 'Collectible Components' and 'Expansion for Base-game'\n",
    "list_of_cats = [c for c in set(list_of_cats) \n",
    "                if c not in ('Collectible Components', 'Expansion for Base-game')]"
   ]
  },
  {
   "cell_type": "code",
   "execution_count": 80,
   "metadata": {},
   "outputs": [],
   "source": [
    "# For the next step, we won't want any any category in list_of_cats to be a substring of another\n",
    "# (notice that 'Napoleonic' is a substring of 'Post-Napoleonic', for example)\n",
    "# 'Bad' categories are appended with * to remain separate in the next step\n",
    "\n",
    "for c in list_of_cats:\n",
    "    isDupe = False\n",
    "    for d in list_of_cats:\n",
    "        if (c in d) and (c != d):\n",
    "            isDupe = True\n",
    "    if isDupe == True:\n",
    "        e = c + \"*\"\n",
    "        list_of_cats.remove(c)\n",
    "        list_of_cats.insert(0, e)"
   ]
  },
  {
   "cell_type": "code",
   "execution_count": 81,
   "metadata": {},
   "outputs": [
    {
     "name": "stdout",
     "output_type": "stream",
     "text": [
      "['Napoleonic*', 'Civil War*', 'Book*', 'Exploration*', 'World War I*', 'American Indian Wars', 'Animals', 'Puzzle', 'Spies/Secret Agents', 'Nautical', 'Novel-based', 'Movies / TV / Radio theme', 'Math', 'Party Game', 'Mature / Adult', 'Environmental', 'Trivia', 'Medical', 'Zombies', 'Ancient', 'Game System', 'nan', 'Horror', 'Age of Reason', 'Bluffing', 'City Building', 'Science Fiction', 'Arabian', 'Number', 'Vietnam War', 'Fantasy', 'Wargame', 'Memory', 'Territory Building', 'Print & Play', 'Transportation', 'Music', 'Mythology', 'Mafia', 'Maze', 'Humor', 'Sports', 'American Civil War', 'Negotiation', 'Dice', 'Fan Expansion', 'Farming', 'Space Exploration', 'Real-time', 'Religious', 'Renaissance', 'Miniatures', 'Adventure', 'Deduction', 'Abstract Strategy', 'Political', 'Comic Book / Strip', 'Word Game', 'Action / Dexterity', 'American Revolutionary War', 'Travel', 'Card Game', 'Pirates', \"Children's Game\", 'Trains', 'Economic', 'Medieval', 'Aviation / Flight', 'World War II', 'Prehistoric', 'Modern Warfare', 'Industry / Manufacturing', 'Electronic', 'Murder/Mystery', 'Video Game Theme', 'Post-Napoleonic', 'American West', 'Racing', 'Fighting', 'Educational', 'Civilization']\n"
     ]
    }
   ],
   "source": [
    "print(list_of_cats)"
   ]
  },
  {
   "cell_type": "code",
   "execution_count": 84,
   "metadata": {},
   "outputs": [],
   "source": [
    "# Create a new column in the table for each category in list_of_cats, setting the value to 1 if its\n",
    "# 'categories' field contains that column's name and setting it to 0 otherwise\n",
    "for c in list_of_cats:\n",
    "    for index, row in merged.iterrows():\n",
    "        merged.at[index, c] = 0\n",
    "for c in list_of_cats:\n",
    "    for index, row in merged.loc[merged['categories'].str.contains(c, na=False)].iterrows():\n",
    "        merged.at[index, c] = 1"
   ]
  },
  {
   "cell_type": "code",
   "execution_count": 212,
   "metadata": {},
   "outputs": [],
   "source": [
    "# Create KModes model, clustering on categories\n",
    "\n",
    "kmodes = KModes(n_clusters=15, init='Huang', n_init=5)\n",
    "clusters = kmodes.fit_predict(merged[list_of_cats])"
   ]
  },
  {
   "cell_type": "code",
   "execution_count": 216,
   "metadata": {},
   "outputs": [],
   "source": [
    "# Display categories and average rating of games in each cluster for KModes model\n",
    "\n",
    "mode_cluster_scores = pd.DataFrame(0, index = range(0, len(kmodes.cluster_centroids_)), \n",
    "                              columns=['categories', 'count', 'sum_of_scores', 'avg_rating'])\n",
    "\n",
    "for i in range(0, len(kmodes.labels_)):\n",
    "    mode_cluster_scores.loc[kmodes.labels_[i], 'count'] += 1\n",
    "    mode_cluster_scores.loc[kmodes.labels_[i], 'sum_of_scores'] += merged.loc[i, 'average_rating']\n",
    "\n",
    "for i in range(0, len(kmodes.cluster_centroids_)):\n",
    "    indices = np.where(kmodes.cluster_centroids_[i] > 0)\n",
    "    for k in indices:\n",
    "        mode_cluster_scores.loc[i, 'categories'] = str(np.array(list_of_cats)[k])\n",
    "    mode_cluster_scores.loc[i, 'average_rating'] = mode_cluster_scores.loc[i, 'sum_of_scores']/mode_cluster_scores.loc[i, 'count']"
   ]
  },
  {
   "cell_type": "code",
   "execution_count": 217,
   "metadata": {
    "scrolled": false
   },
   "outputs": [
    {
     "data": {
      "text/html": [
       "<div>\n",
       "<style scoped>\n",
       "    .dataframe tbody tr th:only-of-type {\n",
       "        vertical-align: middle;\n",
       "    }\n",
       "\n",
       "    .dataframe tbody tr th {\n",
       "        vertical-align: top;\n",
       "    }\n",
       "\n",
       "    .dataframe thead th {\n",
       "        text-align: right;\n",
       "    }\n",
       "</style>\n",
       "<table border=\"1\" class=\"dataframe\">\n",
       "  <thead>\n",
       "    <tr style=\"text-align: right;\">\n",
       "      <th></th>\n",
       "      <th>categories</th>\n",
       "      <th>count</th>\n",
       "      <th>sum_of_scores</th>\n",
       "      <th>avg_rating</th>\n",
       "      <th>average_rating</th>\n",
       "    </tr>\n",
       "  </thead>\n",
       "  <tbody>\n",
       "    <tr>\n",
       "      <th>0</th>\n",
       "      <td>['Card Game']</td>\n",
       "      <td>315</td>\n",
       "      <td>2016.86832</td>\n",
       "      <td>0</td>\n",
       "      <td>6.402757</td>\n",
       "    </tr>\n",
       "    <tr>\n",
       "      <th>1</th>\n",
       "      <td>['Science Fiction']</td>\n",
       "      <td>63</td>\n",
       "      <td>427.76492</td>\n",
       "      <td>0</td>\n",
       "      <td>6.789919</td>\n",
       "    </tr>\n",
       "    <tr>\n",
       "      <th>2</th>\n",
       "      <td>['Fantasy' 'Card Game']</td>\n",
       "      <td>105</td>\n",
       "      <td>719.37138</td>\n",
       "      <td>0</td>\n",
       "      <td>6.851156</td>\n",
       "    </tr>\n",
       "    <tr>\n",
       "      <th>3</th>\n",
       "      <td>[]</td>\n",
       "      <td>298</td>\n",
       "      <td>2032.16405</td>\n",
       "      <td>0</td>\n",
       "      <td>6.819342</td>\n",
       "    </tr>\n",
       "    <tr>\n",
       "      <th>4</th>\n",
       "      <td>['Science Fiction' 'Fantasy' 'Card Game']</td>\n",
       "      <td>6</td>\n",
       "      <td>34.76434</td>\n",
       "      <td>0</td>\n",
       "      <td>5.794057</td>\n",
       "    </tr>\n",
       "    <tr>\n",
       "      <th>5</th>\n",
       "      <td>['Party Game' 'Humor' 'Card Game']</td>\n",
       "      <td>43</td>\n",
       "      <td>240.83025</td>\n",
       "      <td>0</td>\n",
       "      <td>5.600703</td>\n",
       "    </tr>\n",
       "    <tr>\n",
       "      <th>6</th>\n",
       "      <td>['Fantasy' 'Miniatures' 'Adventure' 'Fighting']</td>\n",
       "      <td>41</td>\n",
       "      <td>304.10851</td>\n",
       "      <td>0</td>\n",
       "      <td>7.417281</td>\n",
       "    </tr>\n",
       "    <tr>\n",
       "      <th>7</th>\n",
       "      <td>['Dice']</td>\n",
       "      <td>46</td>\n",
       "      <td>308.94784</td>\n",
       "      <td>0</td>\n",
       "      <td>6.716257</td>\n",
       "    </tr>\n",
       "    <tr>\n",
       "      <th>8</th>\n",
       "      <td>['Bluffing' 'Deduction' 'Card Game']</td>\n",
       "      <td>44</td>\n",
       "      <td>296.95601</td>\n",
       "      <td>0</td>\n",
       "      <td>6.749000</td>\n",
       "    </tr>\n",
       "    <tr>\n",
       "      <th>9</th>\n",
       "      <td>['Ancient' 'Card Game']</td>\n",
       "      <td>6</td>\n",
       "      <td>34.56842</td>\n",
       "      <td>0</td>\n",
       "      <td>5.761403</td>\n",
       "    </tr>\n",
       "    <tr>\n",
       "      <th>10</th>\n",
       "      <td>['Fantasy' 'Dice']</td>\n",
       "      <td>24</td>\n",
       "      <td>168.57023</td>\n",
       "      <td>0</td>\n",
       "      <td>7.023760</td>\n",
       "    </tr>\n",
       "    <tr>\n",
       "      <th>11</th>\n",
       "      <td>['Fantasy']</td>\n",
       "      <td>85</td>\n",
       "      <td>569.49035</td>\n",
       "      <td>0</td>\n",
       "      <td>6.699886</td>\n",
       "    </tr>\n",
       "    <tr>\n",
       "      <th>12</th>\n",
       "      <td>['Exploration*' 'Science Fiction' 'Space Explo...</td>\n",
       "      <td>28</td>\n",
       "      <td>194.47748</td>\n",
       "      <td>0</td>\n",
       "      <td>6.945624</td>\n",
       "    </tr>\n",
       "    <tr>\n",
       "      <th>13</th>\n",
       "      <td>['Wargame' 'Abstract Strategy']</td>\n",
       "      <td>2</td>\n",
       "      <td>14.35675</td>\n",
       "      <td>0</td>\n",
       "      <td>7.178375</td>\n",
       "    </tr>\n",
       "    <tr>\n",
       "      <th>14</th>\n",
       "      <td>['Wargame' 'Miniatures']</td>\n",
       "      <td>25</td>\n",
       "      <td>151.22802</td>\n",
       "      <td>0</td>\n",
       "      <td>6.049121</td>\n",
       "    </tr>\n",
       "  </tbody>\n",
       "</table>\n",
       "</div>"
      ],
      "text/plain": [
       "                                           categories  count  sum_of_scores  \\\n",
       "0                                       ['Card Game']    315     2016.86832   \n",
       "1                                 ['Science Fiction']     63      427.76492   \n",
       "2                             ['Fantasy' 'Card Game']    105      719.37138   \n",
       "3                                                  []    298     2032.16405   \n",
       "4           ['Science Fiction' 'Fantasy' 'Card Game']      6       34.76434   \n",
       "5                  ['Party Game' 'Humor' 'Card Game']     43      240.83025   \n",
       "6     ['Fantasy' 'Miniatures' 'Adventure' 'Fighting']     41      304.10851   \n",
       "7                                            ['Dice']     46      308.94784   \n",
       "8                ['Bluffing' 'Deduction' 'Card Game']     44      296.95601   \n",
       "9                             ['Ancient' 'Card Game']      6       34.56842   \n",
       "10                                 ['Fantasy' 'Dice']     24      168.57023   \n",
       "11                                        ['Fantasy']     85      569.49035   \n",
       "12  ['Exploration*' 'Science Fiction' 'Space Explo...     28      194.47748   \n",
       "13                    ['Wargame' 'Abstract Strategy']      2       14.35675   \n",
       "14                           ['Wargame' 'Miniatures']     25      151.22802   \n",
       "\n",
       "    avg_rating  average_rating  \n",
       "0            0        6.402757  \n",
       "1            0        6.789919  \n",
       "2            0        6.851156  \n",
       "3            0        6.819342  \n",
       "4            0        5.794057  \n",
       "5            0        5.600703  \n",
       "6            0        7.417281  \n",
       "7            0        6.716257  \n",
       "8            0        6.749000  \n",
       "9            0        5.761403  \n",
       "10           0        7.023760  \n",
       "11           0        6.699886  \n",
       "12           0        6.945624  \n",
       "13           0        7.178375  \n",
       "14           0        6.049121  "
      ]
     },
     "execution_count": 217,
     "metadata": {},
     "output_type": "execute_result"
    }
   ],
   "source": [
    "# Show mode_cluster_scores\n",
    "\n",
    "mode_cluster_scores"
   ]
  },
  {
   "cell_type": "code",
   "execution_count": 231,
   "metadata": {},
   "outputs": [
    {
     "data": {
      "image/png": "[encoded data removed]",
      "text/plain": [
       "<Figure size 432x288 with 1 Axes>"
      ]
     },
     "metadata": {},
     "output_type": "display_data"
    }
   ],
   "source": [
    "# Analysis of cost for KModes models clustered on categories\n",
    "\n",
    "Sum_sq = []\n",
    "K = range(1, 20)\n",
    "for k in K:\n",
    "    kmeans = KMeans(n_clusters = k)\n",
    "    kmeans.fit(merged.loc[:, list_of_cats])\n",
    "    Sum_sq.append(kmeans.score(merged.loc[:, list_of_cats]))\n",
    "plt.plot(K, Sum_sq, 'bx-')\n",
    "plt.xlabel('k')\n",
    "plt.xticks(range(1, 20))\n",
    "plt.ylabel('Score')\n",
    "plt.title('k-means scores')\n",
    "plt.show()"
   ]
  },
  {
   "cell_type": "code",
   "execution_count": 232,
   "metadata": {},
   "outputs": [],
   "source": [
    "# Create KModes model, clustering on categories\n",
    "\n",
    "kmeans = KMeans(n_clusters=13)\n",
    "clusters = kmeans.fit(merged[list_of_cats])"
   ]
  },
  {
   "cell_type": "code",
   "execution_count": 233,
   "metadata": {},
   "outputs": [],
   "source": [
    "# Compute (top 3 categories) and average rating of games in each cluster for KModes model\n",
    "\n",
    "mean_cluster_scores = pd.DataFrame(0, index = range(0, len(kmeans.cluster_centers_)), \n",
    "                              columns=['categories', 'count', 'sum_of_scores', 'avg_rating'])\n",
    "\n",
    "for i in range(0, len(kmeans.labels_)):\n",
    "    mean_cluster_scores.loc[kmeans.labels_[i], 'count'] += 1\n",
    "    mean_cluster_scores.loc[kmeans.labels_[i], 'sum_of_scores'] += merged.loc[i, 'average_rating']\n",
    "\n",
    "for i in range(0, len(kmeans.cluster_centers_)):\n",
    "    indices = np.argpartition(kmeans.cluster_centers_[i], -3)[-3:]\n",
    "    mean_cluster_scores.loc[i, 'categories'] = str(np.array(list_of_cats)[indices])\n",
    "    mean_cluster_scores.loc[i, 'average_rating'] = mean_cluster_scores.loc[i, 'sum_of_scores']/mean_cluster_scores.loc[i, 'count']"
   ]
  },
  {
   "cell_type": "code",
   "execution_count": 235,
   "metadata": {
    "scrolled": true
   },
   "outputs": [
    {
     "data": {
      "text/html": [
       "<div>\n",
       "<style scoped>\n",
       "    .dataframe tbody tr th:only-of-type {\n",
       "        vertical-align: middle;\n",
       "    }\n",
       "\n",
       "    .dataframe tbody tr th {\n",
       "        vertical-align: top;\n",
       "    }\n",
       "\n",
       "    .dataframe thead th {\n",
       "        text-align: right;\n",
       "    }\n",
       "</style>\n",
       "<table border=\"1\" class=\"dataframe\">\n",
       "  <thead>\n",
       "    <tr style=\"text-align: right;\">\n",
       "      <th></th>\n",
       "      <th>categories</th>\n",
       "      <th>count</th>\n",
       "      <th>sum_of_scores</th>\n",
       "      <th>avg_rating</th>\n",
       "      <th>average_rating</th>\n",
       "    </tr>\n",
       "  </thead>\n",
       "  <tbody>\n",
       "    <tr>\n",
       "      <th>0</th>\n",
       "      <td>['City Building' 'Party Game' 'Economic']</td>\n",
       "      <td>239</td>\n",
       "      <td>1612.93404</td>\n",
       "      <td>0</td>\n",
       "      <td>6.748678</td>\n",
       "    </tr>\n",
       "    <tr>\n",
       "      <th>1</th>\n",
       "      <td>['Exploration*' 'Fantasy' 'Adventure']</td>\n",
       "      <td>55</td>\n",
       "      <td>403.91278</td>\n",
       "      <td>0</td>\n",
       "      <td>7.343869</td>\n",
       "    </tr>\n",
       "    <tr>\n",
       "      <th>2</th>\n",
       "      <td>['Medieval' 'Card Game' 'Bluffing']</td>\n",
       "      <td>191</td>\n",
       "      <td>1219.55736</td>\n",
       "      <td>0</td>\n",
       "      <td>6.385117</td>\n",
       "    </tr>\n",
       "    <tr>\n",
       "      <th>3</th>\n",
       "      <td>['Card Game' 'Deduction' 'Bluffing']</td>\n",
       "      <td>51</td>\n",
       "      <td>339.22295</td>\n",
       "      <td>0</td>\n",
       "      <td>6.651430</td>\n",
       "    </tr>\n",
       "    <tr>\n",
       "      <th>4</th>\n",
       "      <td>['Space Exploration' 'Exploration*' 'Science F...</td>\n",
       "      <td>55</td>\n",
       "      <td>375.62120</td>\n",
       "      <td>0</td>\n",
       "      <td>6.829476</td>\n",
       "    </tr>\n",
       "    <tr>\n",
       "      <th>5</th>\n",
       "      <td>['Puzzle' 'Abstract Strategy' 'Card Game']</td>\n",
       "      <td>44</td>\n",
       "      <td>262.35307</td>\n",
       "      <td>0</td>\n",
       "      <td>5.962570</td>\n",
       "    </tr>\n",
       "    <tr>\n",
       "      <th>6</th>\n",
       "      <td>['Party Game' 'Humor' 'Card Game']</td>\n",
       "      <td>89</td>\n",
       "      <td>533.09120</td>\n",
       "      <td>0</td>\n",
       "      <td>5.989789</td>\n",
       "    </tr>\n",
       "    <tr>\n",
       "      <th>7</th>\n",
       "      <td>['Fighting' 'Card Game' 'Fantasy']</td>\n",
       "      <td>108</td>\n",
       "      <td>737.60553</td>\n",
       "      <td>0</td>\n",
       "      <td>6.829681</td>\n",
       "    </tr>\n",
       "    <tr>\n",
       "      <th>8</th>\n",
       "      <td>['World War I*' 'Miniatures' 'Wargame']</td>\n",
       "      <td>65</td>\n",
       "      <td>445.85929</td>\n",
       "      <td>0</td>\n",
       "      <td>6.859374</td>\n",
       "    </tr>\n",
       "    <tr>\n",
       "      <th>9</th>\n",
       "      <td>['Miniatures' 'Medieval' 'Fantasy']</td>\n",
       "      <td>83</td>\n",
       "      <td>564.62442</td>\n",
       "      <td>0</td>\n",
       "      <td>6.802704</td>\n",
       "    </tr>\n",
       "    <tr>\n",
       "      <th>10</th>\n",
       "      <td>['Dice' 'Card Game' 'Science Fiction']</td>\n",
       "      <td>41</td>\n",
       "      <td>271.69209</td>\n",
       "      <td>0</td>\n",
       "      <td>6.626636</td>\n",
       "    </tr>\n",
       "    <tr>\n",
       "      <th>11</th>\n",
       "      <td>['Fighting' 'Fantasy' 'Dice']</td>\n",
       "      <td>70</td>\n",
       "      <td>475.55009</td>\n",
       "      <td>0</td>\n",
       "      <td>6.793573</td>\n",
       "    </tr>\n",
       "    <tr>\n",
       "      <th>12</th>\n",
       "      <td>['Book*' 'Card Game' 'Fighting']</td>\n",
       "      <td>40</td>\n",
       "      <td>272.44285</td>\n",
       "      <td>0</td>\n",
       "      <td>6.811071</td>\n",
       "    </tr>\n",
       "  </tbody>\n",
       "</table>\n",
       "</div>"
      ],
      "text/plain": [
       "                                           categories  count  sum_of_scores  \\\n",
       "0           ['City Building' 'Party Game' 'Economic']    239     1612.93404   \n",
       "1              ['Exploration*' 'Fantasy' 'Adventure']     55      403.91278   \n",
       "2                 ['Medieval' 'Card Game' 'Bluffing']    191     1219.55736   \n",
       "3                ['Card Game' 'Deduction' 'Bluffing']     51      339.22295   \n",
       "4   ['Space Exploration' 'Exploration*' 'Science F...     55      375.62120   \n",
       "5          ['Puzzle' 'Abstract Strategy' 'Card Game']     44      262.35307   \n",
       "6                  ['Party Game' 'Humor' 'Card Game']     89      533.09120   \n",
       "7                  ['Fighting' 'Card Game' 'Fantasy']    108      737.60553   \n",
       "8             ['World War I*' 'Miniatures' 'Wargame']     65      445.85929   \n",
       "9                 ['Miniatures' 'Medieval' 'Fantasy']     83      564.62442   \n",
       "10             ['Dice' 'Card Game' 'Science Fiction']     41      271.69209   \n",
       "11                      ['Fighting' 'Fantasy' 'Dice']     70      475.55009   \n",
       "12                   ['Book*' 'Card Game' 'Fighting']     40      272.44285   \n",
       "\n",
       "    avg_rating  average_rating  \n",
       "0            0        6.748678  \n",
       "1            0        7.343869  \n",
       "2            0        6.385117  \n",
       "3            0        6.651430  \n",
       "4            0        6.829476  \n",
       "5            0        5.962570  \n",
       "6            0        5.989789  \n",
       "7            0        6.829681  \n",
       "8            0        6.859374  \n",
       "9            0        6.802704  \n",
       "10           0        6.626636  \n",
       "11           0        6.793573  \n",
       "12           0        6.811071  "
      ]
     },
     "execution_count": 235,
     "metadata": {},
     "output_type": "execute_result"
    }
   ],
   "source": [
    "# Show mean_cluster_scores\n",
    "\n",
    "mean_cluster_scores"
   ]
  },
  {
   "cell_type": "code",
   "execution_count": 85,
   "metadata": {},
   "outputs": [],
   "source": [
    "only_names_and_cats = merged.loc[:, ['name'] + list_of_cats]"
   ]
  },
  {
   "cell_type": "code",
   "execution_count": 150,
   "metadata": {},
   "outputs": [],
   "source": [
    "# executes k-means clustering with k=clust_num\n",
    "# returns a list of the nearest vals categories\n",
    "# to each centroid as an array of 1's and 0's\n",
    "\n",
    "def get_clusters(clust_num, vals):\n",
    "    kmeans = KMeans(n_clusters = clust_num)\n",
    "    kmeans.fit(only_names_and_cats.loc[:, list_of_cats])\n",
    "    clusters = kmeans.cluster_centers_\n",
    "    rounded_clusters = [[0]*len(list_of_cats)]*clust_num\n",
    "    for i in range(0, clust_num):\n",
    "        ind = np.argpartition(clusters[i], -vals)[-vals:]\n",
    "        for j in ind:\n",
    "            rounded_clusters[i][j] = 1\n",
    "    return rounded_clusters"
   ]
  },
  {
   "cell_type": "code",
   "execution_count": 90,
   "metadata": {},
   "outputs": [],
   "source": [
    "# executes k-means clustering with k=clust_num\n",
    "# returns a list of the nearest vals categories\n",
    "# to each centroid\n",
    "\n",
    "def get_cluster_names(clust_num, vals):\n",
    "    kmeans = KMeans(n_clusters = clust_num)\n",
    "    kmeans.fit(only_names_and_cats.loc[:, list_of_cats])\n",
    "    clustered_cats = []\n",
    "    clusters = kmeans.cluster_centers_.copy()\n",
    "    for i in clusters:\n",
    "        ind = np.argpartition(i, -vals)[-vals:]\n",
    "        this_clust = set()\n",
    "        for j in ind:\n",
    "            this_clust.add(list_of_cats[j])\n",
    "        clustered_cats.append(str(sorted((this_clust))))\n",
    "    return clustered_cats"
   ]
  },
  {
   "cell_type": "code",
   "execution_count": 205,
   "metadata": {},
   "outputs": [],
   "source": [
    "c3 = [[]*len(list_of_cats)]*len(c1.most_common(10))\n",
    "for i in range(0, len(c1.most_common(10))):\n",
    "    c3[i] = list(c1.most_common(10)[i][0])"
   ]
  },
  {
   "cell_type": "code",
   "execution_count": 126,
   "metadata": {},
   "outputs": [
    {
     "data": {
      "text/plain": [
       "[(\"['Card Game', 'Fantasy']\", 39),\n",
       " (\"['Card Game', 'Humor']\", 30),\n",
       " (\"['Exploration*', 'Science Fiction']\", 24),\n",
       " (\"['Fantasy', 'Miniatures']\", 15),\n",
       " (\"['Bluffing', 'Deduction']\", 10),\n",
       " (\"['Bluffing', 'Card Game']\", 10),\n",
       " (\"['Dice', 'Fantasy']\", 9),\n",
       " (\"['Science Fiction', 'Wargame']\", 9),\n",
       " (\"['Adventure', 'Fantasy']\", 9),\n",
       " (\"['Party Game', 'Wargame']\", 8)]"
      ]
     },
     "execution_count": 126,
     "metadata": {},
     "output_type": "execute_result"
    }
   ],
   "source": [
    "# Execute get_cluster_names 40 times, then\n",
    "# lists the top 25 clusters appearing from\n",
    "# the collection of all iterations\n",
    "c2 = Counter()\n",
    "for i in range(1, 40):\n",
    "    this_clust = get_cluster_names(5, 2)\n",
    "    for j in this_clust:\n",
    "        c[j]+=1    \n",
    "c.most_common(10)"
   ]
  },
  {
   "cell_type": "code",
   "execution_count": 105,
   "metadata": {},
   "outputs": [],
   "source": [
    "lr = LinearRegression()\n",
    "y = merged.loc[1:1000, ['backers_count']]\n",
    "X = merged.loc[1:1000, ['total_owners']]\n",
    "y_test = merged.loc[1000:1500, ['backers_count']]\n",
    "X_test = merged.loc[1000:1500, ['total_owners']]"
   ]
  },
  {
   "cell_type": "code",
   "execution_count": 106,
   "metadata": {},
   "outputs": [
    {
     "data": {
      "text/plain": [
       "LinearRegression(copy_X=True, fit_intercept=True, n_jobs=1, normalize=False)"
      ]
     },
     "execution_count": 106,
     "metadata": {},
     "output_type": "execute_result"
    }
   ],
   "source": [
    "lr.fit(X, y)"
   ]
  },
  {
   "cell_type": "code",
   "execution_count": 107,
   "metadata": {},
   "outputs": [],
   "source": [
    "pred = lr.predict(X_test)"
   ]
  },
  {
   "cell_type": "code",
   "execution_count": 108,
   "metadata": {},
   "outputs": [
    {
     "data": {
      "text/plain": [
       "[<matplotlib.lines.Line2D at 0x1f567fbb390>]"
      ]
     },
     "execution_count": 108,
     "metadata": {},
     "output_type": "execute_result"
    },
    {
     "data": {
      "image/png": "[encoded data removed]",
      "text/plain": [
       "<Figure size 432x288 with 1 Axes>"
      ]
     },
     "metadata": {},
     "output_type": "display_data"
    }
   ],
   "source": [
    "plt.scatter(X_test, y_test, color='black')\n",
    "plt.plot(X_test, pred, color='blue', linewidth=3)"
   ]
  },
  {
   "cell_type": "code",
   "execution_count": 122,
   "metadata": {},
   "outputs": [],
   "source": [
    "for index, row in merged.iterrows():\n",
    "    if merged.loc[index, 'total_owners'] != 0:\n",
    "        merged.loc[index, 'ratio'] = merged.loc[index, \n",
    "                                                'backers_count']/merged.loc[index, 'total_owners']\n",
    "    else:\n",
    "        merged.loc[index, 'ratio'] = -1"
   ]
  },
  {
   "cell_type": "code",
   "execution_count": 123,
   "metadata": {},
   "outputs": [
    {
     "data": {
      "text/plain": [
       "(array([1.11e+03, 1.10e+01, 4.00e+00, 0.00e+00, 1.00e+00, 0.00e+00,\n",
       "        1.00e+00, 1.00e+00, 0.00e+00, 3.00e+00]),\n",
       " array([-1.0000e+00,  1.6090e+02,  3.2280e+02,  4.8470e+02,  6.4660e+02,\n",
       "         8.0850e+02,  9.7040e+02,  1.1323e+03,  1.2942e+03,  1.4561e+03,\n",
       "         1.6180e+03]),\n",
       " <a list of 10 Patch objects>)"
      ]
     },
     "execution_count": 123,
     "metadata": {},
     "output_type": "execute_result"
    },
    {
     "data": {
      "image/png": "[encoded data removed]",
      "text/plain": [
       "<Figure size 432x288 with 1 Axes>"
      ]
     },
     "metadata": {},
     "output_type": "display_data"
    }
   ],
   "source": [
    "plt.hist(merged.loc[:, 'ratio'])"
   ]
  },
  {
   "cell_type": "code",
   "execution_count": 124,
   "metadata": {},
   "outputs": [
    {
     "data": {
      "text/plain": [
       "(array([1.009e+03, 7.400e+01, 2.100e+01, 8.000e+00, 4.000e+00, 1.000e+00,\n",
       "        3.000e+00, 1.000e+00, 2.000e+00, 2.000e+00]),\n",
       " array([ -1. ,  44.1,  89.2, 134.3, 179.4, 224.5, 269.6, 314.7, 359.8,\n",
       "        404.9, 450. ]),\n",
       " <a list of 10 Patch objects>)"
      ]
     },
     "execution_count": 124,
     "metadata": {},
     "output_type": "execute_result"
    },
    {
     "data": {
      "image/png": "[encoded data removed]",
      "text/plain": [
       "<Figure size 432x288 with 1 Axes>"
      ]
     },
     "metadata": {},
     "output_type": "display_data"
    }
   ],
   "source": [
    "pared = merged.query('ratio < 600')[['name', 'ratio']]\n",
    "plt.hist(pared.loc[:, 'ratio'])"
   ]
  },
  {
   "cell_type": "code",
   "execution_count": 128,
   "metadata": {},
   "outputs": [
    {
     "name": "stdout",
     "output_type": "stream",
     "text": [
      "0.001 0.002 0.003 0.004 0.005 0.006 0.007 0.008 0.009 0.01 0.011 0.012 0.013 0.014 0.015 0.016 0.017 0.018 0.019 0.02 0.021 0.022 0.023 0.024 0.025 0.026 0.027 0.028 0.029 0.03 0.031 0.032 0.033 0.034 0.035 0.036 0.037 0.038 0.039 0.04 0.041 0.042 0.043 0.044 0.045 0.046 0.047 0.048 0.049 0.05 0.051 0.052 0.053 0.054 0.055 0.056 0.057 0.058 0.059 0.06 0.061 0.062 0.063 0.064 0.065 0.066 0.067 0.068 0.069 0.07 0.071 0.072 0.073 0.074 0.075 0.076 0.077 0.078 0.079 0.08 0.081 0.082 0.083 0.084 0.085 0.086 0.087 0.088 0.089 0.09 0.091 0.092 0.093 0.094 0.095 0.096 0.097 0.098 0.099 0.1 0.101 0.102 0.103 0.104 0.105 0.106 0.107 0.108 0.109 0.11 0.111 0.112 0.113 0.114 0.115 0.116 0.117 0.118 0.119 0.12 0.121 0.122 0.123 0.124 0.125 0.126 0.127 0.128 0.129 0.13 0.131 0.132 0.133 0.134 0.135 0.136 0.137 0.138 0.139 0.14 0.141 0.142 0.143 0.144 0.145 0.146 0.147 0.148 0.149 0.15 0.151 0.152 0.153 0.154 0.155 0.156 0.157 0.158 0.159 0.16 0.161 0.162 0.163 0.164 0.165 0.166 0.167 0.168 0.169 0.17 0.171 0.172 0.173 0.174 0.175 0.176 0.177 0.178 0.179 0.18 0.181 0.182 0.183 0.184 0.185 0.186 0.187 0.188 0.189 0.19 0.191 0.192 0.193 0.194 0.195 0.196 0.197 0.198 0.199 0.2 0.201 0.202 0.203 0.204 0.205 0.206 0.207 0.208 0.209 0.21 0.211 0.212 0.213 0.214 0.215 0.216 0.217 0.218 0.219 0.22 0.221 0.222 0.223 0.224 0.225 0.226 0.227 0.228 0.229 0.23 0.231 0.232 0.233 0.234 0.235 0.236 0.237 0.238 0.239 0.24 0.241 0.242 0.243 0.244 0.245 0.246 0.247 0.248 0.249 0.25 0.251 0.252 0.253 0.254 0.255 0.256 0.257 0.258 0.259 0.26 0.261 0.262 0.263 0.264 0.265 0.266 0.267 0.268 0.269 0.27 0.271 0.272 0.273 0.274 0.275 0.276 0.277 0.278 0.279 0.28 0.281 0.282 0.283 0.284 0.285 0.286 0.287 0.288 0.289 0.29 0.291 0.292 0.293 0.294 0.295 0.296 0.297 0.298 0.299 0.3 0.301 0.302 0.303 0.304 0.305 0.306 0.307 0.308 0.309 0.31 0.311 0.312 0.313 0.314 0.315 0.316 0.317 0.318 0.319 0.32 0.321 0.322 0.323 0.324 0.325 0.326 0.327 0.328 0.329 0.33 0.331 0.332 0.333 0.334 0.335 0.336 0.337 0.338 0.339 0.34 0.341 0.342 0.343 0.344 0.345 0.346 0.347 0.348 0.349 0.35 0.351 0.352 0.353 0.354 0.355 0.356 0.357 0.358 0.359 0.36 0.361 0.362 0.363 0.364 0.365 0.366 0.367 0.368 0.369 0.37 0.371 0.372 0.373 0.374 0.375 0.376 0.377 0.378 0.379 0.38 0.381 0.382 0.383 0.384 0.385 0.386 0.387 0.388 0.389 0.39 0.391 0.392 0.393 0.394 0.395 0.396 0.397 0.398 0.399 0.4 0.401 0.402 0.403 0.404 0.405 0.406 0.407 0.408 0.409 0.41 0.411 0.412 0.413 0.414 0.415 0.416 0.417 0.418 0.419 0.42 0.421 0.422 0.423 0.424 0.425 0.426 0.427 0.428 0.429 0.43 0.431 0.432 0.433 0.434 0.435 0.436 0.437 0.438 0.439 0.44 0.441 0.442 0.443 0.444 0.445 0.446 0.447 0.448 0.449 0.45 0.451 0.452 0.453 0.454 0.455 0.456 0.457 0.458 0.459 0.46 0.461 0.462 0.463 0.464 0.465 0.466 0.467 0.468 0.469 0.47 0.471 0.472 0.473 0.474 0.475 0.476 0.477 0.478 0.479 0.48 0.481 0.482 0.483 0.484 0.485 0.486 0.487 0.488 0.489 0.49 0.491 0.492 0.493 0.494 0.495 0.496 0.497 0.498 0.499 0.5 0.501 0.502 0.503 0.504 0.505 0.506 0.507 0.508 0.509 0.51 0.511 0.512 0.513 0.514 0.515 0.516 0.517 0.518 0.519 0.52 0.521 0.522 0.523 0.524 0.525 0.526 0.527 0.528 0.529 0.53 0.531 0.532 0.533 0.534 0.535 0.536 0.537 0.538 0.539 0.54 0.541 0.542 0.543 0.544 0.545 0.546 0.547 0.548 0.549 0.55 0.551 0.552 0.553 0.554 0.555 0.556 0.557 0.558 0.559 0.56 0.561 0.562 0.563 0.564 0.565 0.566 0.567 0.568 0.569 0.57 0.571 0.572 0.573 0.574 0.575 0.576 0.577 0.578 0.579 0.58 0.581 0.582 0.583 0.584 0.585 0.586 0.587 0.588 0.589 0.59 0.591 0.592 0.593 0.594 0.595 0.596 0.597 0.598 0.599 0.6 0.601 0.602 0.603 0.604 0.605 0.606 0.607 0.608 0.609 0.61 0.611 0.612 0.613 0.614 0.615 0.616 0.617 0.618 0.619 0.62 0.621 0.622 0.623 0.624 0.625 0.626 0.627 0.628 0.629 0.63 0.631 0.632 0.633 0.634 0.635 0.636 0.637 0.638 0.639 0.64 0.641 0.642 0.643 0.644 0.645 0.646 0.647 0.648 0.649 0.65 0.651 0.652 0.653 0.654 0.655 0.656 0.657 0.658 0.659 0.66 0.661 0.662 0.663 0.664 0.665 0.666 0.667 0.668 0.669 0.67 0.671 0.672 0.673 0.674 0.675 0.676 0.677 0.678 0.679 0.68 0.681 0.682 0.683 0.684 0.685 0.686 0.687 0.688 0.689 0.69 0.691 0.692 0.693 0.694 0.695 0.696 0.697 0.698 0.699 0.7 0.701 0.702 0.703 0.704 0.705 0.706 0.707 0.708 0.709 0.71 0.711 0.712 0.713 0.714 0.715 0.716 0.717 0.718 0.719 0.72 0.721 0.722 0.723 0.724 0.725 0.726 0.727 0.728 0.729 0.73 0.731 0.732 0.733 0.734 0.735 0.736 0.737 0.738 0.739 0.74 0.741 0.742 0.743 0.744 0.745 0.746 0.747 0.748 0.749 0.75 0.751 0.752 0.753 0.754 0.755 0.756 0.757 0.758 0.759 0.76 0.761 0.762 0.763 0.764 0.765 0.766 0.767 0.768 0.769 0.77 0.771 0.772 0.773 0.774 0.775 0.776 0.777 0.778 0.779 0.78 0.781 0.782 0.783 0.784 0.785 0.786 0.787 0.788 0.789 0.79 0.791 0.792 0.793 0.794 0.795 0.796 0.797 0.798 0.799 0.8 0.801 0.802 0.803 0.804 0.805 0.806 0.807 0.808 0.809 0.81 0.811 0.812 0.813 0.814 0.815 0.816 0.817 0.818 0.819 0.82 0.821 0.822 0.823 0.824 0.825 0.826 0.827 0.828 0.829 0.83 0.831 0.832 0.833 0.834 0.835 0.836 0.837 0.838 0.839 0.84 0.841 0.842 0.843 0.844 0.845 0.846 0.847 0.848 0.849 0.85 0.851 0.852 0.853 0.854 0.855 0.856 0.857 0.858 0.859 0.86 0.861 0.862 0.863 0.864 0.865 0.866 0.867 0.868 0.869 0.87 0.871 0.872 0.873 0.874 0.875 0.876 0.877 0.878 0.879 0.88 0.881 0.882 0.883 0.884 0.885 0.886 0.887 0.888 0.889 0.89 0.891 0.892 0.893 0.894 0.895 0.896 0.897 0.898 0.899 0.9 0.901 0.902 0.903 0.904 0.905 0.906 0.907 0.908 0.909 0.91 0.911 0.912 0.913 0.914 0.915 0.916 0.917 0.918 0.919 0.92 0.921 0.922 0.923 0.924 0.925 0.926 0.927 0.928 0.929 0.93 0.931 0.932 0.933 0.934 0.935 0.936 0.937 0.938 0.939 0.94 0.941 0.942 0.943 0.944 0.945 0.946 0.947 0.948 0.949 0.95 0.951 0.952 0.953 0.954 0.955 0.956 0.957 0.958 0.959 0.96 0.961 0.962 0.963 0.964 0.965 0.966 0.967 0.968 0.969 0.97 0.971 0.972 0.973 0.974 0.975 0.976 0.977 0.978 0.979 0.98 0.981 0.982 0.983 0.984 0.985 0.986 0.987 0.988 0.989 0.99 0.991 0.992 0.993 0.994 0.995 0.996 0.997 0.998 0.999 "
     ]
    }
   ],
   "source": [
    "pct = 0.0\n",
    "for index in range(1, 7097):\n",
    "    if index/7097 > (pct+.001):\n",
    "        pct = round(pct+.001, 3)\n",
    "        print(str(pct), end = \" \")"
   ]
  },
  {
   "cell_type": "code",
   "execution_count": null,
   "metadata": {},
   "outputs": [],
   "source": []
  }
 ],
 "metadata": {
  "kernelspec": {
   "display_name": "Python 3",
   "language": "python",
   "name": "python3"
  },
  "language_info": {
   "codemirror_mode": {
    "name": "ipython",
    "version": 3
   },
   "file_extension": ".py",
   "mimetype": "text/x-python",
   "name": "python",
   "nbconvert_exporter": "python",
   "pygments_lexer": "ipython3",
   "version": "3.6.5"
  }
 },
 "nbformat": 4,
 "nbformat_minor": 2
}
